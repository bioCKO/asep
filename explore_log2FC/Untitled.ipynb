{
 "cells": [
  {
   "cell_type": "code",
   "execution_count": 13,
   "metadata": {},
   "outputs": [],
   "source": [
    "import os\n",
    "import pandas as pd\n",
    "import numpy as np\n",
    "import scipy as sp\n",
    "from scipy.stats import pearsonr\n",
    "from scipy.stats import spearmanr\n",
    "import matplotlib.pyplot as plt"
   ]
  },
  {
   "cell_type": "code",
   "execution_count": 14,
   "metadata": {},
   "outputs": [],
   "source": [
    "input_file = '/home/umcg-zzhang/Documents/projects/ASEpredictor/outputs/biosGavinOverlapCov10/biosGavinOlCv10AntUfltCstLog2FCVar.tsv'"
   ]
  },
  {
   "cell_type": "code",
   "execution_count": 15,
   "metadata": {},
   "outputs": [],
   "source": [
    "df = pd.read_table(input_file, header=0, low_memory=False)"
   ]
  },
  {
   "cell_type": "code",
   "execution_count": 16,
   "metadata": {},
   "outputs": [
    {
     "name": "stdout",
     "output_type": "stream",
     "text": [
      "column_name: chr, correlation: -0.01985885057041148, pvalue: 0.05049933735019914\n",
      "column_name: pos, correlation: 0.02098713055631437, pvalue: 0.03874854263338502\n",
      "column_name: cadd, correlation: -0.19194563616371324, pvalue: 3.795851375994527e-81\n",
      "column_name: CaddChrom, correlation: -0.01985885057041148, pvalue: 0.05049933735019914\n",
      "column_name: CaddPos, correlation: 0.02098713055631437, pvalue: 0.03874854263338502\n",
      "column_name: ConsScore, correlation: -0.19492068099096385, pvalue: 1.134849629739669e-83\n",
      "column_name: GC, correlation: -0.09004389927189696, pvalue: 6.406604667132568e-19\n",
      "column_name: CpG, correlation: -0.109409366179192, pvalue: 3.2214038415513638e-27\n"
     ]
    },
    {
     "name": "stderr",
     "output_type": "stream",
     "text": [
      "/usr/local/lib/python3.5/dist-packages/numpy/lib/function_base.py:2400: RuntimeWarning: invalid value encountered in true_divide\n",
      "  c /= stddev[:, None]\n",
      "/usr/local/lib/python3.5/dist-packages/numpy/lib/function_base.py:2401: RuntimeWarning: invalid value encountered in true_divide\n",
      "  c /= stddev[None, :]\n",
      "/usr/local/lib/python3.5/dist-packages/scipy/stats/_distn_infrastructure.py:879: RuntimeWarning: invalid value encountered in greater\n",
      "  return (self.a < x) & (x < self.b)\n",
      "/usr/local/lib/python3.5/dist-packages/scipy/stats/_distn_infrastructure.py:879: RuntimeWarning: invalid value encountered in less\n",
      "  return (self.a < x) & (x < self.b)\n",
      "/usr/local/lib/python3.5/dist-packages/scipy/stats/_distn_infrastructure.py:1821: RuntimeWarning: invalid value encountered in less_equal\n",
      "  cond2 = cond0 & (x <= self.a)\n"
     ]
    },
    {
     "name": "stdout",
     "output_type": "stream",
     "text": [
      "column_name: minDistTSS, correlation: 0.10630837457106478, pvalue: 8.82007079190568e-26\n",
      "column_name: minDistTSE, correlation: 0.03531297895409806, pvalue: 0.0005044497978257443\n",
      "column_name: cHmmTssA, correlation: -0.035619873770182955, pvalue: 0.00045041920657875147\n",
      "column_name: cHmmTssAFlnk, correlation: -0.028582997454397203, pvalue: 0.00487520467330673\n",
      "column_name: cHmmTxFlnk, correlation: -0.10390015464058353, pvalue: 1.0792139562850631e-24\n",
      "column_name: cHmmTx, correlation: -0.07850438319827974, pvalue: 9.760314093717571e-15\n",
      "column_name: cHmmTxWk, correlation: 0.1610940642188634, pvalue: 2.154045669171381e-57\n",
      "column_name: cHmmEnhG, correlation: -0.09761754209398743, pvalue: 5.66172575843561e-22\n",
      "column_name: cHmmEnh, correlation: 0.028109282398940456, pvalue: 0.00563165847953084\n",
      "column_name: cHmmZnfRpts, correlation: -0.03448867996971922, pvalue: 0.0006809443359415166\n",
      "column_name: cHmmQuies, correlation: 0.09599521162599042, pvalue: 2.6775258238538743e-21\n",
      "column_name: GerpN, correlation: -0.09317177902095622, pvalue: 3.760212519188797e-20\n",
      "column_name: GerpS, correlation: -0.098534786059059, pvalue: 2.325079861296163e-22\n",
      "column_name: RawScore, correlation: -0.19196492766365653, pvalue: 3.6565717142551033e-81\n",
      "column_name: PHRED, correlation: -0.19194563616371324, pvalue: 3.795851375994527e-81\n",
      "column_name: gnomad_AF, correlation: 0.25272837464225983, pvalue: 3.349810914647539e-141\n",
      "column_name: log2FCVar, correlation: 1.0, pvalue: 0.0\n",
      "candidates: ['chr', 'pos', 'cadd', 'ConsScore', 'GC', 'CpG', 'minDistTSS', 'minDistTSE', 'cHmmTssA', 'cHmmTssAFlnk', 'cHmmTxFlnk', 'cHmmTx', 'cHmmTxWk', 'cHmmEnhG', 'cHmmEnh', 'cHmmZnfRpts', 'cHmmQuies', 'GerpN', 'GerpS', 'PHRED', 'gnomad_AF'], # of candidates: 21\n"
     ]
    }
   ],
   "source": [
    "log2FCVar = df.log2FCVar\n",
    "\n",
    "candidatePool = []\n",
    "for index, col in enumerate(df.columns):\n",
    "    if df[col].dtype != 'object':\n",
    "        sm = spearmanr(log2FCVar, df[col])\n",
    "        correlation = sm.correlation\n",
    "        pvalue = sm.pvalue\n",
    "        if np.isnan(correlation) or pvalue > 0.1:\n",
    "            continue\n",
    "        candidatePool.append(col)\n",
    "        print('column_name: {0}, correlation: {1}, pvalue: {2}'.format(col, correlation, pvalue))\n",
    "candidatePool.remove('CaddChrom')\n",
    "candidatePool.remove('CaddPos')\n",
    "candidatePool.remove('RawScore')\n",
    "\n",
    "\n",
    "print('candidates: {}, # of candidates: {}'.format(candidatePool[:-1], len(candidatePool)-1))\n"
   ]
  },
  {
   "cell_type": "code",
   "execution_count": 10,
   "metadata": {},
   "outputs": [],
   "source": [
    "import os\n",
    "import json"
   ]
  },
  {
   "cell_type": "code",
   "execution_count": 11,
   "metadata": {},
   "outputs": [],
   "source": [
    "b = json.dumps(dict(a='b'))"
   ]
  },
  {
   "cell_type": "code",
   "execution_count": 12,
   "metadata": {},
   "outputs": [
    {
     "data": {
      "text/plain": [
       "['.ipynb_checkpoints', 'Untitled.ipynb', 'test.json']"
      ]
     },
     "execution_count": 12,
     "metadata": {},
     "output_type": "execute_result"
    }
   ],
   "source": [
    "with open('test.json', 'w') as f:\n",
    "    f.write(b)\n",
    "    \n",
    "os.listdir('.')"
   ]
  }
 ],
 "metadata": {
  "kernelspec": {
   "display_name": "Python 3",
   "language": "python",
   "name": "python3"
  },
  "language_info": {
   "codemirror_mode": {
    "name": "ipython",
    "version": 3
   },
   "file_extension": ".py",
   "mimetype": "text/x-python",
   "name": "python",
   "nbconvert_exporter": "python",
   "pygments_lexer": "ipython3",
   "version": "3.5.3"
  }
 },
 "nbformat": 4,
 "nbformat_minor": 2
}
