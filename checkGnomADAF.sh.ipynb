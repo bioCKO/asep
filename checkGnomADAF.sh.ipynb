{
 "cells": [
  {
   "cell_type": "code",
   "execution_count": null,
   "metadata": {
    "collapsed": true
   },
   "outputs": [],
   "source": [
    "#!/bin/bash\n",
    "#SBATCH --time=0:10:0\n",
    "#SBATCH --ntasks=1\n",
    "#SBATCH --output=%j-%u.log\n",
    "#SBATCH --job-name=updateGAVINGnomadColumn\n",
    "#SBATCH --mail-user=zhenhua.zhang217@gmail.com\n",
    "#SBATCH --mail-type=all\n",
    "#SBATCH --mem-per-cpu=5G\n",
    "#SBATCH --cpus-per-task=10\n",
    "\n",
    "# Set up timer\n",
    "SECONDES=0\n",
    "\n",
    "# Set up error handler rules\n",
    "set -o errexit\n",
    "set -o errtrace\n",
    "\n",
    "# TODO create a log function\n",
    "echo -e \"=== Start ===\"\n",
    "\n",
    "# Job info\n",
    "echo -e \"Current directory: $(pwd)\"\n",
    "\n",
    "# Load modules\n",
    "module list\n",
    "module load BCFtools\n",
    "module list\n",
    "\n",
    "# Arrange woring dirs\n",
    "## proecessed GAVIN file\n",
    "pjDir=${HOME}/projects/ASEpredictor\n",
    "pjIpDir=${pjDir}/outputs/biosGavinOverlapCov10\n",
    "pjOpDir=${pjDir}/outputs/biosGavinOverlapCov10\n",
    "pjIpFile=${pjIpDir}/tmp.bed\n",
    "pjOpFile=${pjOpDir}/tmp.vcf\n",
    "\n",
    "\n",
    "## GnomAD files\n",
    "gDir=/apps/data/gnomAD\n",
    "gIpDir=${gDir}/release-170228/vcf/genomes/r2.0.2/"
   ]
  },
  {
   "cell_type": "code",
   "execution_count": null,
   "metadata": {
    "collapsed": true
   },
   "outputs": [],
   "source": [
    "bcftools query \\\n",
    "    -R ${pjIpFile} \\\n",
    "    -f '%CHROM\\t%POS\\t%REF\\t%ALT\\tAF_raw%INFO/AF_raw;AF=%INFO/AF\\n' \\\n",
    "    ${gIpDir}/gnomad.genomes.r2.0.2.sites.chr{1..22}.normalized.vcf.gz \\\n",
    "    > ${pjOpFile}"
   ]
  }
 ],
 "metadata": {
  "kernelspec": {
   "display_name": "Bash",
   "language": "bash",
   "name": "bash"
  },
  "language_info": {
   "codemirror_mode": "shell",
   "file_extension": ".sh",
   "mimetype": "text/x-sh",
   "name": "bash"
  }
 },
 "nbformat": 4,
 "nbformat_minor": 2
}
