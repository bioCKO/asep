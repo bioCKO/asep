{
 "cells": [
  {
   "cell_type": "code",
   "execution_count": 1,
   "metadata": {
    "collapsed": true
   },
   "outputs": [
    {
     "name": "stderr",
     "output_type": "stream",
     "text": [
      "2018-11-09,09:34:05 <root> INFO: === Start ... ===\n"
     ]
    },
    {
     "name": "stdout",
     "output_type": "stream",
     "text": [
      "Automatically created module for IPython interactive environment\n"
     ]
    }
   ],
   "source": [
    "#!/usr/bin/env python3\n",
    "# -*- coding : utf-8 -*-\n",
    "#\n",
    "##\n",
    "### author: zhzhang\n",
    "### e-mail: zhzhang2015@sina.com / zhenhua.zhang217@gmail.com\n",
    "### date  : 2018.10.25\n",
    "##\n",
    "#\n",
    "################################################################################\n",
    "\n",
    "print(__doc__)\n",
    "\n",
    "# Load basic modules\n",
    "import os\n",
    "import sys                                                                      \n",
    "import time\n",
    "import logging\n",
    "\n",
    "from os.path import join\n",
    "\n",
    "import warnings\n",
    "warnings.filterwarnings('ignore')\n",
    "\n",
    "ct = time.clock()  # Time counting starts\n",
    "\n",
    "# Create stream handler of logging\n",
    "## Logging info formatter\n",
    "FORMATTER = '%(asctime)s <%(name)s> %(levelname)s: %(message)s'\n",
    "formatter = logging.Formatter(FORMATTER, '%Y-%m-%d,%H:%M:%S')\n",
    "\n",
    "## Set up main logging stream and formatter\n",
    "ch = logging.StreamHandler()\n",
    "ch.setLevel(logging.INFO)\n",
    "ch.setFormatter(formatter)\n",
    "\n",
    "# Set up logging\n",
    "lg = logging.getLogger()\n",
    "lg.setLevel(logging.INFO)         # default logging level INFO\n",
    "lg.addHandler(ch)\n",
    "lg.info(\"=== Start ... ===\")\n"
   ]
  },
  {
   "cell_type": "code",
   "execution_count": 2,
   "metadata": {
    "collapsed": true
   },
   "outputs": [
    {
     "name": "stderr",
     "output_type": "stream",
     "text": [
      "2018-11-09,09:34:06 <root> INFO: Load necessay modules...\n",
      "2018-11-09,09:34:06 <root> INFO: Loaded library: numpy. Version: 1.15.1\n",
      "2018-11-09,09:34:06 <root> INFO: Loaded library: scikit-learn. Version: 0.19.2\n",
      "2018-11-09,09:34:07 <root> INFO: Loaded library: pandas. Version: 0.23.4\n"
     ]
    }
   ],
   "source": [
    "# Load necessay modules\n",
    "lg.info(\"Load necessay modules...\")\n",
    "\n",
    "import numpy as np\n",
    "lg.info('Loaded library: %s. Version: %s'%('numpy', np.__version__))\n",
    "\n",
    "import sklearn\n",
    "lg.info('Loaded library: %s. Version: %s'%('scikit-learn', sklearn.__version__))\n",
    "\n",
    "import pandas as pd\n",
    "lg.info('Loaded library: %s. Version: %s'%('pandas', pd.__version__))\n",
    "\n",
    "\n",
    "# Modules from scikit-learn\n",
    "\n",
    "# Load functions for model selection\n",
    "from sklearn.model_selection import cross_validate"
   ]
  },
  {
   "cell_type": "code",
   "execution_count": 4,
   "metadata": {},
   "outputs": [],
   "source": [
    "def plot_learning_curve(lc, title, ylim=None, train_sizes=np.linspace(.1, 1.0, 5)):\n",
    "    \"\"\"\n",
    "    Generate a simple plot of the test and training learning curve.\n",
    "\n",
    "    Parameters\n",
    "    ----------\n",
    "    lc : tuple, including train_sizes_abs, train_scores, test_scores\n",
    "         train_sizes_abs : array, shape (n_unique_ticks,), dtype int\n",
    "        Numbers of training examples that has been used to generate the learning curve. Note that the number of ticks might be less than n_ticks because duplicate entries will be removed.\n",
    "\n",
    "         train_scores : array, shape (n_ticks, n_cv_folds)\n",
    "        Scores on training sets.\n",
    "\n",
    "         test_scores : array, shape (n_ticks, n_cv_folds)\n",
    "        Scores on test set.\n",
    "\n",
    "    title : string\n",
    "        Title for the chart.\n",
    "\n",
    "    ylim : tuple, shape (ymin, ymax), optional\n",
    "        Defines minimum and maximum yvalues plotted.\n",
    "\n",
    "    train_sizes : array-like, shape (n_ticks,), dtype float or int\n",
    "        Relative or absolute numbers of training examples that will be used to\n",
    "        generate the learning curve. If the dtype is float, it is regarded as a\n",
    "        fraction of the maximum size of the training set (that is determined\n",
    "        by the selected validation method), i.e. it has to be within (0, 1].\n",
    "        Otherwise it is interpreted as absolute sizes of the training sets.\n",
    "        Note that for classification the number of samples usually have to\n",
    "        be big enough to contain at least one sample from each class.\n",
    "        (default: np.linspace(0.1, 1.0, 5))\n",
    "    \"\"\"\n",
    "    plt.figure()\n",
    "    plt.title(title)\n",
    "    if ylim is not None:\n",
    "        plt.ylim(*ylim)\n",
    "    plt.xlabel(\"Training examples\")\n",
    "    plt.ylabel(\"Score\")\n",
    "    train_sizes, train_scores, test_scores = lc\n",
    "    train_scores_mean = np.mean(train_scores, axis=1)\n",
    "    train_scores_std = np.std(train_scores, axis=1)\n",
    "    test_scores_mean = np.mean(test_scores, axis=1)\n",
    "    test_scores_std = np.std(test_scores, axis=1)\n",
    "    plt.grid()\n",
    "\n",
    "    plt.fill_between(train_sizes, train_scores_mean - train_scores_std,\n",
    "                     train_scores_mean + train_scores_std, alpha=0.1,\n",
    "                     color=\"r\")\n",
    "    plt.fill_between(train_sizes, test_scores_mean - test_scores_std,\n",
    "                     test_scores_mean + test_scores_std, alpha=0.1, color=\"g\")\n",
    "    plt.plot(train_sizes, train_scores_mean, 'o-', color=\"r\",\n",
    "             label=\"Training score\")\n",
    "    plt.plot(train_sizes, test_scores_mean, 'o-', color=\"g\",\n",
    "             label=\"Cross-validation score\")\n",
    "\n",
    "    plt.legend(loc=\"best\")\n",
    "    return plt"
   ]
  },
  {
   "cell_type": "code",
   "execution_count": 5,
   "metadata": {},
   "outputs": [],
   "source": [
    "# Arrange working dirs and files\n",
    "ipfd = '/home/umcg-zzhang/Documents/projects/ASEpredictor/outputs/biosGavinOverlapCov10'\n",
    "ipfn = 'biosGavinOverlapCov10Anno.tsv'\n",
    "ipf = join(ipfd, ipfn)\n",
    "\n",
    "# Loading training datasets. \n",
    "ipdf = pd.read_table(ipf, header=0)"
   ]
  },
  {
   "cell_type": "code",
   "execution_count": 6,
   "metadata": {},
   "outputs": [],
   "source": [
    "# Implement a function to select interested features\n",
    "def featureSelect():\n",
    "    pass"
   ]
  },
  {
   "cell_type": "code",
   "execution_count": 7,
   "metadata": {},
   "outputs": [],
   "source": [
    "# Load necessary methods\n",
    "# from sklearn.model_selection import ShuffleSplit\n",
    "from sklearn.model_selection import train_test_split\n",
    "\n",
    "# Setting up random seed\n",
    "np.random.seed(1234)\n",
    "\n",
    "# Predictors v.s. responsible variables\n",
    "X_c, y_c = ['chr', 'pos', 'ref', 'alt', 'cadd', 'group'], ['log2FC']\n",
    "\n",
    "X, y = ipdf.loc[:, X_c], ipdf.loc[:, y_c]\n",
    "\n",
    "## Encoding categorical feature?\n",
    "from sklearn.preprocessing import LabelEncoder\n",
    "le = LabelEncoder()\n",
    "le.fit(X['ref'].append(X['alt']))\n",
    "X['refEncoded'] = le.transform(X['ref'])\n",
    "X['altEncoded'] = le.transform(X['alt'])\n",
    "X['groupEncoded'] = le.fit_transform(X['group'])\n",
    "\n",
    "XData_c = ['chr', 'pos', 'refEncoded', 'altEncoded', 'cadd', 'groupEncoded']\n",
    "X_data = X.loc[:, XData_c]\n",
    "# Split of training datasets. \n",
    "X_train, X_test, y_train, y_test =  train_test_split(X_data, y, random_state=42)"
   ]
  },
  {
   "cell_type": "code",
   "execution_count": 8,
   "metadata": {},
   "outputs": [
    {
     "name": "stdout",
     "output_type": "stream",
     "text": [
      "X_train.shape:  (7499, 6)\n",
      "X_test.shape:  (2500, 6)\n",
      "y_train.shape:  (7499, 1)\n",
      "y_test.shape:  (2500, 1)\n"
     ]
    }
   ],
   "source": [
    "print(\"X_train.shape: \", X_train.shape)\n",
    "print(\"X_test.shape: \", X_test.shape)\n",
    "print(\"y_train.shape: \", y_train.shape)\n",
    "print(\"y_test.shape: \", y_test.shape)"
   ]
  },
  {
   "cell_type": "code",
   "execution_count": 9,
   "metadata": {},
   "outputs": [],
   "source": [
    "# Preprocessing or transformers\n",
    "\n",
    "## Imputation of missing values?\n",
    "## from sklearn.impute import MissingIndicator\n",
    "## mi = MissingIndicator()\n",
    "\n",
    "## Since we have some outliers, the RobustScaler will be used.\n",
    "from sklearn.preprocessing import RobustScaler\n",
    "rs = RobustScaler(quantile_range=(25,75))\n",
    "\n",
    "## Normalizatoin?\n",
    "from sklearn.preprocessing import Normalizer\n",
    "nm = Normalizer()"
   ]
  },
  {
   "cell_type": "code",
   "execution_count": 10,
   "metadata": {},
   "outputs": [
    {
     "name": "stderr",
     "output_type": "stream",
     "text": [
      "/home/umcg-zzhang/Tools/Anaconda3/lib/python3.7/site-packages/sklearn/ensemble/weight_boosting.py:29: DeprecationWarning: numpy.core.umath_tests is an internal NumPy module and should not be imported. It will be removed in a future NumPy release.\n",
      "  from numpy.core.umath_tests import inner1d\n"
     ]
    }
   ],
   "source": [
    "#\n",
    "##\n",
    "### The best parameter values should ALWAYS be CROSS-VALIDATED.\n",
    "### Seting up `seed` by `numpy.random.seed()`, since scikit-learn used `numpy.random()` throughout.\n",
    "### A trick to speed up is to use `memory` parameter to cache the estimators\n",
    "##\n",
    "#\n",
    "\n",
    "# Load learning algorithm\n",
    "from sklearn.ensemble import RandomForestRegressor\n",
    "rfr = RandomForestRegressor(n_estimators=10)"
   ]
  },
  {
   "cell_type": "code",
   "execution_count": 11,
   "metadata": {},
   "outputs": [
    {
     "data": {
      "text/plain": [
       "array([0.37410995, 0.08123148, 0.18284564, 0.21936131, 0.13502532,\n",
       "       0.0074263 ])"
      ]
     },
     "execution_count": 11,
     "metadata": {},
     "output_type": "execute_result"
    }
   ],
   "source": [
    "# Aggregate several steps into a pipeline by Pipeline\n",
    "from sklearn.pipeline import Pipeline\n",
    "\n",
    "rfr_estimators = [\n",
    "#    ('mi', mi),    # MissingIndicator\n",
    "#    ('ohe', ohe),  # OneHotEncoder\n",
    "    ('rs', rs),     # RobustScaler\n",
    "    ('nm', nm),     # Normalizer\n",
    "    ('rfr', rfr),   # RandomForestClassifier\n",
    "]\n",
    "\n",
    "rfr_pipeline = Pipeline(rfr_estimators)\n",
    "rfrpf = rfr_pipeline.fit(X_data, y)\n",
    "rfrm = rfrpf.named_steps['rfr']\n",
    "rfrm.feature_importances_"
   ]
  },
  {
   "cell_type": "code",
   "execution_count": 12,
   "metadata": {},
   "outputs": [
    {
     "data": {
      "text/plain": [
       "<Figure size 640x480 with 1 Axes>"
      ]
     },
     "metadata": {},
     "output_type": "display_data"
    }
   ],
   "source": [
    "# Cross validation metohd 1\n",
    "import matplotlib.pyplot as plt\n",
    "from sklearn.model_selection import cross_validate\n",
    "from sklearn.model_selection import cross_val_score\n",
    "from sklearn.model_selection import learning_curve\n",
    "from sklearn.model_selection import ShuffleSplit\n",
    "\n",
    "# Using k-fold CV (plain CV) or other strategies\n",
    "plainCV = False\n",
    "\n",
    "if plainCV: \n",
    "    cv = 10\n",
    "else:\n",
    "    cv = ShuffleSplit(\n",
    "        n_splits=10, test_size=0.3, random_state=0\n",
    "    )  # optimization need\n",
    "cvs = cross_val_score(rfr_pipeline, X_data, y, cv=cv)\n",
    "lc = learning_curve(rfr_pipeline, X_data, y, train_sizes=np.linspace(0.1, 1.0, 10), cv=cv, n_jobs=5)\n",
    "plot_learning_curve(lc, '7K sample test').show()"
   ]
  },
  {
   "cell_type": "code",
   "execution_count": 13,
   "metadata": {},
   "outputs": [
    {
     "name": "stdout",
     "output_type": "stream",
     "text": [
      "0.6658521520582068\n",
      "0.7173385463533447\n",
      "0.7591956978029426\n",
      "0.6292456069384744\n",
      "0.8148944258420552\n",
      "0.7171855945369954\n",
      "0.7437437330337315\n",
      "0.6261965503535979\n",
      "0.6670213772765498\n",
      "-0.029200129267857866\n"
     ]
    }
   ],
   "source": [
    "# Cross validation method 2 \n",
    "from sklearn.model_selection import KFold\n",
    "from sklearn.metrics import r2_score\n",
    "from sklearn.metrics import explained_variance_score\n",
    "skf = KFold(n_splits=10)\n",
    "for train, test in skf.split(X_data, y):\n",
    "    rfrpf = rfr_pipeline.fit(X_data.loc[train, ], y.loc[train, ])\n",
    "    rfrpfp = rfrpf.predict(X_data.loc[test, ])\n",
    "    print(explained_variance_score(y.loc[test, ], rfrpfp))"
   ]
  },
  {
   "cell_type": "code",
   "execution_count": null,
   "metadata": {},
   "outputs": [],
   "source": [
    "# Model evalution\n",
    "# Load functions for model evaluation (classification)\n",
    "from sklearn.metrics import auc\n",
    "from sklearn.metrics import roc_curve"
   ]
  },
  {
   "cell_type": "code",
   "execution_count": null,
   "metadata": {},
   "outputs": [],
   "source": [
    "# Modules to of plots\n",
    "import matplotlib as mpl\n",
    "from matplotlib import pyplot as plt"
   ]
  }
 ],
 "metadata": {
  "kernelspec": {
   "display_name": "Python 3",
   "language": "python",
   "name": "python3"
  },
  "language_info": {
   "codemirror_mode": {
    "name": "ipython",
    "version": 3
   },
   "file_extension": ".py",
   "mimetype": "text/x-python",
   "name": "python",
   "nbconvert_exporter": "python",
   "pygments_lexer": "ipython3",
   "version": "3.7.0"
  }
 },
 "nbformat": 4,
 "nbformat_minor": 2
}
