{
 "cells": [
  {
   "cell_type": "code",
   "execution_count": 46,
   "metadata": {
    "collapsed": true
   },
   "outputs": [
    {
     "data": {
      "text/plain": [
       "'\\n#   File Name  : main.py\\n##  Author     : zhzhang\\n### E-mail     : zhzhang2015@sina.com\\n### Created on : Mon 12 Nov 2018 09:19:18 PM CET\\n##  Version    : <unknown>\\n#   License    : MIT\\n\\n\\n The best parameter values should ALWAYS be CROSS-VALIDATED. Seting up `seed`\\n by `numpy.random.seed()`, since scikit-learn used `numpy.random()` throughout.\\n A trick to speed up is to use `memory` parameter to cache the estimators\\n'"
      ]
     },
     "execution_count": 46,
     "metadata": {},
     "output_type": "execute_result"
    }
   ],
   "source": [
    "#!/usr/bin/env python3\n",
    "# -*- coding: utf-8 -*-\n",
    "\"\"\"\n",
    "#   File Name  : main.py\n",
    "##  Author     : zhzhang\n",
    "### E-mail     : zhzhang2015@sina.com\n",
    "### Created on : Mon 12 Nov 2018 09:19:18 PM CET\n",
    "##  Version    : <unknown>\n",
    "#   License    : MIT\n",
    "\n",
    "\n",
    " The best parameter values should ALWAYS be CROSS-VALIDATED. Seting up `seed`\n",
    " by `numpy.random.seed()`, since scikit-learn used `numpy.random()` throughout.\n",
    " A trick to speed up is to use `memory` parameter to cache the estimators\n",
    "\"\"\""
   ]
  },
  {
   "cell_type": "code",
   "execution_count": 45,
   "metadata": {},
   "outputs": [],
   "source": [
    "# Load modules\n",
    "import os\n",
    "import sys\n",
    "import time\n",
    "import logging\n",
    "\n",
    "import warnings\n",
    "warnings.filterwarnings(\"ignore\")\n",
    "\n",
    "import numpy as np\n",
    "import pandas as pd\n",
    "import matplotlib.pyplot as plt\n",
    "\n",
    "from os.path import join\n",
    "from sklearn.metrics import explained_variance_score\n",
    "from sklearn.metrics import r2_score\n",
    "from sklearn.ensemble import RandomForestRegressor\n",
    "from sklearn.pipeline import Pipeline\n",
    "from sklearn.preprocessing import LabelEncoder\n",
    "from sklearn.preprocessing import Normalizer\n",
    "from sklearn.preprocessing import RobustScaler\n",
    "from sklearn.model_selection import cross_val_score\n",
    "from sklearn.model_selection import cross_validate\n",
    "from sklearn.model_selection import learning_curve\n",
    "from sklearn.model_selection import KFold\n",
    "from sklearn.model_selection import train_test_split\n",
    "from sklearn.model_selection import ShuffleSplit"
   ]
  },
  {
   "cell_type": "code",
   "execution_count": 47,
   "metadata": {},
   "outputs": [],
   "source": [
    "def plot_learning_curve(lc, title, ylim=None, train_sizes=np.linspace(.1, 1.0, 5)):\n",
    "    \"\"\"\n",
    "    Generate a simple plot of the test and training learning curve.\n",
    "\n",
    "    Parameters\n",
    "    ----------\n",
    "    lc : tuple, including train_sizes_abs, train_scores, test_scores\n",
    "    train_sizes_abs : array, shape (n_unique_ticks,), dtype int\n",
    "    Numbers of training examples that has been used to generate the learning\n",
    "    curve. Note that the number of ticks might be less than n_ticks because\n",
    "    duplicate entries will be removed.\n",
    "\n",
    "    train_scores : array, shape (n_ticks, n_cv_folds)\n",
    "    Scores on training sets.\n",
    "\n",
    "    test_scores : array, shape (n_ticks, n_cv_folds)\n",
    "    Scores on test set.\n",
    "\n",
    "    title : string\n",
    "    Title for the chart.\n",
    "\n",
    "    ylim : tuple, shape (ymin, ymax), optional\n",
    "    Defines minimum and maximum yvalues plotted.\n",
    "\n",
    "    train_sizes : array-like, shape (n_ticks,), dtype float or int\n",
    "    Relative or absolute numbers of training examples that will be used to\n",
    "    generate the learning curve. If the dtype is float, it is regarded as a\n",
    "    fraction of the maximum size of the training set (that is determined\n",
    "    by the selected validation method), i.e. it has to be within (0, 1].\n",
    "    Otherwise it is interpreted as absolute sizes of the training sets.\n",
    "    Note that for classification the number of samples usually have to\n",
    "    be big enough to contain at least one sample from each class.\n",
    "    (default: np.linspace(0.1, 1.0, 5))\n",
    "    \"\"\"\n",
    "    \n",
    "    plt.figure()\n",
    "    plt.title(title)\n",
    "\n",
    "    if ylim is not None:\n",
    "        plt.ylim(*ylim)\n",
    "\n",
    "    plt.xlabel(\"Training examples\")\n",
    "    plt.ylabel(\"Score\")\n",
    "    train_sizes, train_scores, test_scores = lc\n",
    "    \n",
    "    train_scores_mean = np.mean(train_scores, axis=1)\n",
    "    train_scores_std = np.std(train_scores, axis=1)\n",
    "    test_scores_mean = np.mean(test_scores, axis=1)\n",
    "    test_scores_std = np.std(test_scores, axis=1)\n",
    "    \n",
    "    plt.grid()\n",
    "\n",
    "    plt.fill_between(train_sizes, train_scores_mean - train_scores_std,\n",
    "                     train_scores_mean + train_scores_std, alpha=0.1,\n",
    "                     color=\"r\")\n",
    "    plt.fill_between(train_sizes, test_scores_mean - test_scores_std,\n",
    "                     test_scores_mean + test_scores_std, alpha=0.1, color=\"g\")\n",
    "    plt.plot(train_sizes, train_scores_mean, 'o-', color=\"r\",\n",
    "             label=\"Training score\")\n",
    "    plt.plot(train_sizes, test_scores_mean, 'o-', color=\"g\",\n",
    "             label=\"Cross-validation score\")\n",
    "\n",
    "    plt.legend(loc=\"best\")\n",
    "    return plt"
   ]
  },
  {
   "cell_type": "code",
   "execution_count": 48,
   "metadata": {},
   "outputs": [
    {
     "name": "stderr",
     "output_type": "stream",
     "text": [
      "2018-11-13,10:09:21 <root> INFO: === Start ... ===\n",
      "2018-11-13,10:09:21 <root> INFO: === Start ... ===\n",
      "2018-11-13,10:09:21 <root> INFO: === Start ... ===\n",
      "2018-11-13,10:09:21 <root> INFO: === Start ... ===\n",
      "2018-11-13,10:09:21 <root> INFO: Load necessay modules...\n",
      "2018-11-13,10:09:21 <root> INFO: Load necessay modules...\n",
      "2018-11-13,10:09:21 <root> INFO: Load necessay modules...\n",
      "2018-11-13,10:09:21 <root> INFO: Load necessay modules...\n"
     ]
    }
   ],
   "source": [
    "ct = time.clock()  # Time counting starts\n",
    "\n",
    "# Create stream handler of logging\n",
    "# Logging info formatter\n",
    "FORMATTER = '%(asctime)s <%(name)s> %(levelname)s: %(message)s'\n",
    "formatter = logging.Formatter(FORMATTER, '%Y-%m-%d,%H:%M:%S')\n",
    "\n",
    "# Set up main logging stream and formatter\n",
    "ch = logging.StreamHandler()\n",
    "ch.setLevel(logging.INFO)\n",
    "ch.setFormatter(formatter)\n",
    "\n",
    "# Set up logging\n",
    "lg = logging.getLogger()\n",
    "lg.setLevel(logging.INFO)         # default logging level INFO\n",
    "lg.addHandler(ch)\n",
    "lg.info(\"=== Start ... ===\")\n",
    "\n",
    "\n",
    "# Load necessay modules\n",
    "lg.info(\"Load necessay modules...\")\n",
    "\n",
    "debug = True"
   ]
  },
  {
   "cell_type": "code",
   "execution_count": 110,
   "metadata": {},
   "outputs": [
    {
     "name": "stdout",
     "output_type": "stream",
     "text": [
      "Shape of input dataframe(rows, columns):    \t99999\t130\n",
      "Shape of filtered dataframe(rows, columns): \t17317\t130\n"
     ]
    }
   ],
   "source": [
    "# Arrange working dirs and files\n",
    "pjDir = '/home/umcg-zzhang/Documents/projects/ASEpredictor'\n",
    "pjOpDir = join(pjDir, 'outputs')\n",
    "ipfd = join(pjOpDir, 'biosGavinOverlapCov10')\n",
    "if debug:\n",
    "    f = 'tmp.tsv'\n",
    "else:\n",
    "    f = 'biosGavinOverlapCov10Anno.tsv'\n",
    "    \n",
    "ipf = join(ipfd, f)\n",
    "\n",
    "# Loading training datasets.\n",
    "if debug:\n",
    "    nrows = 100000\n",
    "else:\n",
    "    nrows = None\n",
    "    \n",
    "ipdf = pd.read_table(ipf, header=0, nrows=nrows)\n",
    "print(\"Shape of input dataframe(rows, columns):    \", *ipdf.shape, sep=\"\\t\")\n",
    "\n",
    "\n",
    "ipdf = ipdf[((ipdf['log2FC'] >= 1) | (ipdf['log2FC'] <= -1))]\n",
    "print(\"Shape of filtered dataframe(rows, columns): \", *ipdf.shape, sep=\"\\t\")"
   ]
  },
  {
   "cell_type": "code",
   "execution_count": 261,
   "metadata": {
    "collapsed": true
   },
   "outputs": [
    {
     "name": "stdout",
     "output_type": "stream",
     "text": [
      "92       3.584963\n",
      "166      2.115477\n",
      "308      3.807355\n",
      "783      3.459432\n",
      "1356     1.584963\n",
      "1770     2.432959\n",
      "1941     4.129283\n",
      "2070     3.700440\n",
      "2583     2.906891\n",
      "2854     3.087463\n",
      "3172     4.754888\n",
      "3496     4.321928\n",
      "3778     3.807355\n",
      "4040     3.369234\n",
      "4253     3.129283\n",
      "4425     3.115477\n",
      "4571     2.459432\n",
      "4985     2.906891\n",
      "5103     3.643856\n",
      "5261     4.129283\n",
      "5449     2.087463\n",
      "5639     2.050626\n",
      "5834     2.169925\n",
      "6271     3.906891\n",
      "6438     1.736966\n",
      "6897     3.087463\n",
      "7452     3.087463\n",
      "7891     4.906891\n",
      "7928     1.523562\n",
      "8011     3.643856\n",
      "           ...   \n",
      "89521    3.459432\n",
      "89993    3.906891\n",
      "90021    4.044394\n",
      "90178    4.000000\n",
      "90491    3.459432\n",
      "90692    3.584963\n",
      "90719    4.000000\n",
      "90765    2.000000\n",
      "90787    2.000000\n",
      "90948    3.392317\n",
      "91061    4.000000\n",
      "91276    2.321928\n",
      "91302    4.321928\n",
      "91435    3.169925\n",
      "91524    2.954196\n",
      "91582    3.700440\n",
      "91717    3.000000\n",
      "92144    2.662965\n",
      "92599    3.321928\n",
      "93046    1.807355\n",
      "93071    4.754888\n",
      "93144    2.754888\n",
      "93255    1.459432\n",
      "93278    2.321928\n",
      "93431    3.807355\n",
      "93485    2.807355\n",
      "93542    1.584963\n",
      "93638    3.169925\n",
      "93894    3.321928\n",
      "94140    4.247928\n",
      "Name: log2FC, Length: 387, dtype: float64 (10, 88820789, 'C', 'T')\n"
     ]
    },
    {
     "data": {
      "image/png": "[encoded data removed]",
      "text/plain": [
       "<Figure size 1800x288 with 2 Axes>"
      ]
     },
     "metadata": {
      "needs_background": "light"
     },
     "output_type": "display_data"
    }
   ],
   "source": [
    "# Check the variance of log2FC for one variant\n",
    "# alt_counts / ref_counts\n",
    "ipg = ipdf.groupby(['chr', 'pos', 'alt', 'ref'])\n",
    "\n",
    "ax_nums = 5\n",
    "\n",
    "counter = 0\n",
    "percentage_dict = {}\n",
    "\n",
    "\n",
    "for index, (g_name, group) in enumerate(ipg):\n",
    "    length, _ = group.shape\n",
    "    percentage_keys = percentage_dict.keys()\n",
    "    \n",
    "    if length in percentage_keys:\n",
    "        percentage_dict[length]\n",
    "    else:\n",
    "        percentage_dict[length] = {\n",
    "            'altPreferenceCounter':0, \n",
    "            'refPreferenceCounter':0, \n",
    "            'mixedCounter':0}\n",
    "\n",
    "        \n",
    "    negativeLog2FC = group[group['log2FC']<=-1]\n",
    "    positiveLog2FC = group[group['log2FC']>=1]\n",
    "    \n",
    "    lNegativeLog2FC, wNegativeLog2FC = negativeLog2FC.shape\n",
    "    lPositiveLog2FC, wPositiveLog2FC = positiveLog2FC.shape\n",
    "    \n",
    "    if lNegativeLog2FC == 0:\n",
    "        percentage_dict[length]['altPreferenceCounter'] += 1\n",
    "    elif lPositiveLog2FC == 0:\n",
    "        percentage_dict[length]['refPreferenceCounter'] += 1\n",
    "    else:\n",
    "        percentage_dict[length]['mixedCounter'] += 1\n",
    "\n",
    "#     if length > 300 and lPositiveLog2FC != 0 and lNegativeLog2FC==0: # the outlier is (10, 88820789, 'C', 'T')\n",
    "#         print(group.log2FC, g_name)\n",
    "        \n",
    "for x, y in percentage_dict.items():\n",
    "    sumPerVariant = percentage_dict[x]['altPreferenceCounter'] \\\n",
    "        + percentage_dict[x]['refPreferenceCounter'] \\\n",
    "        + percentage_dict[x]['mixedCounter']\n",
    "    percentage_dict[x]['altPreferenceCounter'] /= sumPerVariant / 100.0\n",
    "    percentage_dict[x]['refPreferenceCounter'] /= sumPerVariant / 100.0\n",
    "    percentage_dict[x]['mixedCounter'] /= sumPerVariant / 100.0\n",
    "    \n",
    "    \n",
    "percentage_dataframe = pd.DataFrame(percentage_dict)\n",
    "fig, (ax1, ax2) = plt.subplots(nrows=2)\n",
    "\n",
    "x = list(percentage_dataframe.columns,)\n",
    "y = np.vstack(percentage_dataframe)\n",
    "\n",
    "ax1.bar(x, percentage_dataframe.loc['mixedCounter', ])\n",
    "ax1.bar(x, percentage_dataframe.loc['refPreferenceCounter', ], bottom=percentage_dataframe.loc['mixedCounter', :])\n",
    "ax1.bar(x, percentage_dataframe.loc['altPreferenceCounter', :], bottom=percentage_dataframe.loc['mixedCounter', :] + percentage_dataframe.loc['refPreferenceCounter', :])\n",
    "ax1.set_xlim((0, ax1.get_xlim()[-1]/2))\n",
    "\n",
    "ax2.bar(x, percentage_dataframe.loc['mixedCounter', ])\n",
    "ax2.bar(x, percentage_dataframe.loc['refPreferenceCounter', ], bottom=percentage_dataframe.loc['mixedCounter', :])\n",
    "ax2.bar(x, percentage_dataframe.loc['altPreferenceCounter', :], bottom=percentage_dataframe.loc['mixedCounter', :] + percentage_dataframe.loc['refPreferenceCounter', :])\n",
    "ax2.set_xlim((ax2.get_xlim()[-1]/2, ax2.get_xlim()[-1]))\n",
    "\n",
    "fig.set_figwidth(25)\n",
    "plt.legend(('mixedCounter', 'refPreferenceCounter', 'altPreferenceCounter'))\n",
    "plt.xlabel('Num of samples supporting one variant')\n",
    "plt.show()\n",
    "# int(x)\n",
    "\n",
    "#     if counter >= ax_nums:\n",
    "#         break\n",
    "        \n",
    "#     if length == 5:\n",
    "#         fig, ax = plt.subplots(1)        \n",
    "        \n",
    "#         print(g_name, '| %3.2f' % group.cadd.mode(), '| %d' % length)\n",
    "#         group.log2FC.hist(alpha=0.9, grid=False, ax=ax)\n",
    "#         plt.title('_'.join([str(x) for x in g_name]))\n",
    "#         counter += 1\n",
    "\n",
    "# Some instance.\n",
    "# Variant id               | CADD  | num of samples | log2FC\n",
    "# (10, 72358655, 'A', 'G') | 0.07  | 3              | >= 1\n",
    "# (10, 71149024, 'A', 'G') | 10.11 | 3              | <= -1\n",
    "        \n",
    "        \n",
    "# 如图所示, 数据呈现一对多的特点, 即存在多个具有不同log2FC的样本具有相同的注释结果(如cadd). 因而需要新的features.\n",
    "\n",
    "# As shown in the figure. For one variant with the identical annotations(e.g CADD score), the log2FC \n",
    "#   could be less than -1 or greater than 1. Therefore, more specific features are needed. By specific,\n",
    "#   I mean: information that can make the observered variant in one sample different from the one from \n",
    "#   another sample. For instance: combination of up and down stream information of the observed variant.\n",
    "\n",
    "# 可以添加的feature举例, 位于观测variant上游和下游且与之位于相同的原件(intro或exon)的variant(1~2个), 同时添加\n",
    "#  一列两者之间的遗传距离或碱基距离\n",
    "\n",
    "# Potential features could be, for instance, information of variants that is 1)in the same elenment(e.g \n",
    "#   intron/exon) with the observed variant, 2) from the up or down-stream of the target variant. Meanwhile \n",
    "#   the genetic distance or / and physical distance between the observed variant and adjacent variants. "
   ]
  },
  {
   "cell_type": "code",
   "execution_count": 97,
   "metadata": {},
   "outputs": [],
   "source": [
    "# Setting up random seed\n",
    "np.random.seed(1234)\n",
    "\n",
    "# Predictors v.s. responsible variables\n",
    "X_c, y_c = ['chr', 'pos', 'ref', 'alt', 'cadd', 'group'], ['log2FC']\n",
    "X, y = ipdf.loc[:, X_c], ipdf.loc[:, y_c]\n",
    "\n",
    "# Encoding categorical feature\n",
    "le = LabelEncoder()\n",
    "le.fit(X['ref'].append(X['alt']))\n",
    "X['refEncoded'] = le.transform(X['ref'])\n",
    "X['altEncoded'] = le.transform(X['alt'])\n",
    "X['groupEncoded'] = le.fit_transform(X['group'])\n",
    "\n",
    "X_data_c = ['chr', 'pos', 'refEncoded', 'altEncoded', 'cadd', 'groupEncoded']\n",
    "X_data_c = ['chr', 'pos', 'refEncoded', 'altEncoded', 'groupEncoded']\n",
    "X_data = X.loc[:, X_data_c]\n",
    "\n",
    "# Split of training datasets.\n",
    "X_train, X_test, y_train, y_test = train_test_split(X_data, y, random_state=42)"
   ]
  },
  {
   "cell_type": "code",
   "execution_count": 98,
   "metadata": {
    "scrolled": true
   },
   "outputs": [
    {
     "name": "stdout",
     "output_type": "stream",
     "text": [
      "X_train.shape:  12987 5\n",
      "X_test.shape:   4330 5\n",
      "y_train.shape:  12987 1\n",
      "y_test.shape:   4330 1\n"
     ]
    }
   ],
   "source": [
    "# Check the shape of splitted dataset\n",
    "print(\"X_train.shape: \", *X_train.shape)\n",
    "print(\"X_test.shape:  \", *X_test.shape)\n",
    "print(\"y_train.shape: \", *y_train.shape)\n",
    "print(\"y_test.shape:  \", *y_test.shape)"
   ]
  },
  {
   "cell_type": "code",
   "execution_count": 99,
   "metadata": {},
   "outputs": [],
   "source": [
    "# Check the dataframe\n",
    "# X_train.head(10)\n",
    "# y_train.head(10)"
   ]
  },
  {
   "cell_type": "code",
   "execution_count": 100,
   "metadata": {},
   "outputs": [],
   "source": [
    "# Preprocessing or transformers\n",
    "# Since we have some outliers, the RobustScaler will be used.\n",
    "rs = RobustScaler(quantile_range=(25, 75))\n",
    "\n",
    "# Normalizatoin?\n",
    "nm = Normalizer()"
   ]
  },
  {
   "cell_type": "code",
   "execution_count": 101,
   "metadata": {},
   "outputs": [],
   "source": [
    "# Load learning algorithm\n",
    "rfr = RandomForestRegressor(n_estimators=10)"
   ]
  },
  {
   "cell_type": "code",
   "execution_count": 102,
   "metadata": {},
   "outputs": [
    {
     "name": "stdout",
     "output_type": "stream",
     "text": [
      "Importance of chr : 0.04459035048714764\n",
      "Importance of pos : 0.30137665034775013\n",
      "Importance of ref : 0.4761508099420862\n",
      "Importance of alt : 0.17609424167106566\n",
      "Importance of group : 0.0017879475519502902\n"
     ]
    }
   ],
   "source": [
    "# Aggregate several steps into a pipeline by Pipeline\n",
    "rfr_estimators = [\n",
    "    # ('mi', mi),    # MissingIndicator\n",
    "    # ('ohe', ohe),  # OneHotEncoder\n",
    "    ('rs', rs),     # RobustScaler\n",
    "    ('nm', nm),     # Normalizer\n",
    "    ('rfr', rfr),   # RandomForestClassifier\n",
    "]\n",
    "\n",
    "rfr_pipeline = Pipeline(rfr_estimators)\n",
    "rfrpf = rfr_pipeline.fit(X_data, y)\n",
    "rfrm = rfrpf.named_steps['rfr']\n",
    "\n",
    "featureNames = X_train.columns\n",
    "featureImportance = rfrm.feature_importances_\n",
    "\n",
    "for index, value in enumerate(featureNames):\n",
    "    print(\"Importance of\", value.replace(\"Encoded\", ''), \":\", featureImportance[index])"
   ]
  },
  {
   "cell_type": "code",
   "execution_count": 105,
   "metadata": {
    "scrolled": true
   },
   "outputs": [
    {
     "name": "stdout",
     "output_type": "stream",
     "text": [
      "Cross validation score: [0.19862671 0.25627755 0.22516145 0.22008793 0.24127818 0.22907024\n",
      " 0.22975156 0.23427076 0.23763131 0.23427295]\n"
     ]
    },
    {
     "data": {
      "image/png": "[encoded data removed]",
      "text/plain": [
       "<Figure size 432x288 with 1 Axes>"
      ]
     },
     "metadata": {
      "needs_background": "light"
     },
     "output_type": "display_data"
    }
   ],
   "source": [
    "# Cross validation metohd 1\n",
    "# Using k-fold CV (plain CV) or other strategies\n",
    "plainCV = False\n",
    "\n",
    "if plainCV:\n",
    "    cv = 10\n",
    "else: \n",
    "    # optimization need\n",
    "    cv = ShuffleSplit(n_splits=10, test_size=0.3, random_state=0)\n",
    "\n",
    "# 10-fold validation\n",
    "cvs = cross_val_score(rfr_pipeline, X_data, y, cv=cv)\n",
    "print(\"Cross validation score:\", cvs)\n",
    "\n",
    "lc = learning_curve(rfr_pipeline, X_data, y, cv=cv, n_jobs=5,\n",
    "                    train_sizes=np.linspace(0.1, 1.0, 10))\n",
    "\n",
    "plot_learning_curve(lc, '100K sample test').show()"
   ]
  },
  {
   "cell_type": "code",
   "execution_count": 95,
   "metadata": {},
   "outputs": [
    {
     "ename": "ValueError",
     "evalue": "Input contains NaN, infinity or a value too large for dtype('float64').",
     "output_type": "error",
     "traceback": [
      "\u001b[0;31m---------------------------------------------------------------------------\u001b[0m",
      "\u001b[0;31mValueError\u001b[0m                                Traceback (most recent call last)",
      "\u001b[0;32m<ipython-input-95-6a6da9e95cf0>\u001b[0m in \u001b[0;36m<module>\u001b[0;34m()\u001b[0m\n\u001b[1;32m      3\u001b[0m \u001b[0;34m\u001b[0m\u001b[0m\n\u001b[1;32m      4\u001b[0m \u001b[0;32mfor\u001b[0m \u001b[0mtrain\u001b[0m\u001b[0;34m,\u001b[0m \u001b[0mtest\u001b[0m \u001b[0;32min\u001b[0m \u001b[0mskf\u001b[0m\u001b[0;34m.\u001b[0m\u001b[0msplit\u001b[0m\u001b[0;34m(\u001b[0m\u001b[0mX_data\u001b[0m\u001b[0;34m,\u001b[0m \u001b[0my\u001b[0m\u001b[0;34m)\u001b[0m\u001b[0;34m:\u001b[0m\u001b[0;34m\u001b[0m\u001b[0m\n\u001b[0;32m----> 5\u001b[0;31m     \u001b[0mrfrpf\u001b[0m \u001b[0;34m=\u001b[0m \u001b[0mrfr_pipeline\u001b[0m\u001b[0;34m.\u001b[0m\u001b[0mfit\u001b[0m\u001b[0;34m(\u001b[0m\u001b[0mX_data\u001b[0m\u001b[0;34m.\u001b[0m\u001b[0mloc\u001b[0m\u001b[0;34m[\u001b[0m\u001b[0mtrain\u001b[0m\u001b[0;34m,\u001b[0m \u001b[0;34m]\u001b[0m\u001b[0;34m,\u001b[0m \u001b[0my\u001b[0m\u001b[0;34m.\u001b[0m\u001b[0mloc\u001b[0m\u001b[0;34m[\u001b[0m\u001b[0mtrain\u001b[0m\u001b[0;34m,\u001b[0m \u001b[0;34m]\u001b[0m\u001b[0;34m)\u001b[0m\u001b[0;34m\u001b[0m\u001b[0m\n\u001b[0m\u001b[1;32m      6\u001b[0m     \u001b[0;31m#rfrpfp = rfrpf.predict(X_data.loc[test, ])\u001b[0m\u001b[0;34m\u001b[0m\u001b[0;34m\u001b[0m\u001b[0m\n",
      "\u001b[0;32m~/Tools/Anaconda3/lib/python3.7/site-packages/sklearn/pipeline.py\u001b[0m in \u001b[0;36mfit\u001b[0;34m(self, X, y, **fit_params)\u001b[0m\n\u001b[1;32m    246\u001b[0m             \u001b[0mThis\u001b[0m \u001b[0mestimator\u001b[0m\u001b[0;34m\u001b[0m\u001b[0m\n\u001b[1;32m    247\u001b[0m         \"\"\"\n\u001b[0;32m--> 248\u001b[0;31m         \u001b[0mXt\u001b[0m\u001b[0;34m,\u001b[0m \u001b[0mfit_params\u001b[0m \u001b[0;34m=\u001b[0m \u001b[0mself\u001b[0m\u001b[0;34m.\u001b[0m\u001b[0m_fit\u001b[0m\u001b[0;34m(\u001b[0m\u001b[0mX\u001b[0m\u001b[0;34m,\u001b[0m \u001b[0my\u001b[0m\u001b[0;34m,\u001b[0m \u001b[0;34m**\u001b[0m\u001b[0mfit_params\u001b[0m\u001b[0;34m)\u001b[0m\u001b[0;34m\u001b[0m\u001b[0m\n\u001b[0m\u001b[1;32m    249\u001b[0m         \u001b[0;32mif\u001b[0m \u001b[0mself\u001b[0m\u001b[0;34m.\u001b[0m\u001b[0m_final_estimator\u001b[0m \u001b[0;32mis\u001b[0m \u001b[0;32mnot\u001b[0m \u001b[0;32mNone\u001b[0m\u001b[0;34m:\u001b[0m\u001b[0;34m\u001b[0m\u001b[0m\n\u001b[1;32m    250\u001b[0m             \u001b[0mself\u001b[0m\u001b[0;34m.\u001b[0m\u001b[0m_final_estimator\u001b[0m\u001b[0;34m.\u001b[0m\u001b[0mfit\u001b[0m\u001b[0;34m(\u001b[0m\u001b[0mXt\u001b[0m\u001b[0;34m,\u001b[0m \u001b[0my\u001b[0m\u001b[0;34m,\u001b[0m \u001b[0;34m**\u001b[0m\u001b[0mfit_params\u001b[0m\u001b[0;34m)\u001b[0m\u001b[0;34m\u001b[0m\u001b[0m\n",
      "\u001b[0;32m~/Tools/Anaconda3/lib/python3.7/site-packages/sklearn/pipeline.py\u001b[0m in \u001b[0;36m_fit\u001b[0;34m(self, X, y, **fit_params)\u001b[0m\n\u001b[1;32m    211\u001b[0m                 Xt, fitted_transformer = fit_transform_one_cached(\n\u001b[1;32m    212\u001b[0m                     \u001b[0mcloned_transformer\u001b[0m\u001b[0;34m,\u001b[0m \u001b[0;32mNone\u001b[0m\u001b[0;34m,\u001b[0m \u001b[0mXt\u001b[0m\u001b[0;34m,\u001b[0m \u001b[0my\u001b[0m\u001b[0;34m,\u001b[0m\u001b[0;34m\u001b[0m\u001b[0m\n\u001b[0;32m--> 213\u001b[0;31m                     **fit_params_steps[name])\n\u001b[0m\u001b[1;32m    214\u001b[0m                 \u001b[0;31m# Replace the transformer of the step with the fitted\u001b[0m\u001b[0;34m\u001b[0m\u001b[0;34m\u001b[0m\u001b[0m\n\u001b[1;32m    215\u001b[0m                 \u001b[0;31m# transformer. This is necessary when loading the transformer\u001b[0m\u001b[0;34m\u001b[0m\u001b[0;34m\u001b[0m\u001b[0m\n",
      "\u001b[0;32m~/Tools/Anaconda3/lib/python3.7/site-packages/sklearn/externals/joblib/memory.py\u001b[0m in \u001b[0;36m__call__\u001b[0;34m(self, *args, **kwargs)\u001b[0m\n\u001b[1;32m    360\u001b[0m \u001b[0;34m\u001b[0m\u001b[0m\n\u001b[1;32m    361\u001b[0m     \u001b[0;32mdef\u001b[0m \u001b[0m__call__\u001b[0m\u001b[0;34m(\u001b[0m\u001b[0mself\u001b[0m\u001b[0;34m,\u001b[0m \u001b[0;34m*\u001b[0m\u001b[0margs\u001b[0m\u001b[0;34m,\u001b[0m \u001b[0;34m**\u001b[0m\u001b[0mkwargs\u001b[0m\u001b[0;34m)\u001b[0m\u001b[0;34m:\u001b[0m\u001b[0;34m\u001b[0m\u001b[0m\n\u001b[0;32m--> 362\u001b[0;31m         \u001b[0;32mreturn\u001b[0m \u001b[0mself\u001b[0m\u001b[0;34m.\u001b[0m\u001b[0mfunc\u001b[0m\u001b[0;34m(\u001b[0m\u001b[0;34m*\u001b[0m\u001b[0margs\u001b[0m\u001b[0;34m,\u001b[0m \u001b[0;34m**\u001b[0m\u001b[0mkwargs\u001b[0m\u001b[0;34m)\u001b[0m\u001b[0;34m\u001b[0m\u001b[0m\n\u001b[0m\u001b[1;32m    363\u001b[0m \u001b[0;34m\u001b[0m\u001b[0m\n\u001b[1;32m    364\u001b[0m     \u001b[0;32mdef\u001b[0m \u001b[0mcall_and_shelve\u001b[0m\u001b[0;34m(\u001b[0m\u001b[0mself\u001b[0m\u001b[0;34m,\u001b[0m \u001b[0;34m*\u001b[0m\u001b[0margs\u001b[0m\u001b[0;34m,\u001b[0m \u001b[0;34m**\u001b[0m\u001b[0mkwargs\u001b[0m\u001b[0;34m)\u001b[0m\u001b[0;34m:\u001b[0m\u001b[0;34m\u001b[0m\u001b[0m\n",
      "\u001b[0;32m~/Tools/Anaconda3/lib/python3.7/site-packages/sklearn/pipeline.py\u001b[0m in \u001b[0;36m_fit_transform_one\u001b[0;34m(transformer, weight, X, y, **fit_params)\u001b[0m\n\u001b[1;32m    579\u001b[0m                        **fit_params):\n\u001b[1;32m    580\u001b[0m     \u001b[0;32mif\u001b[0m \u001b[0mhasattr\u001b[0m\u001b[0;34m(\u001b[0m\u001b[0mtransformer\u001b[0m\u001b[0;34m,\u001b[0m \u001b[0;34m'fit_transform'\u001b[0m\u001b[0;34m)\u001b[0m\u001b[0;34m:\u001b[0m\u001b[0;34m\u001b[0m\u001b[0m\n\u001b[0;32m--> 581\u001b[0;31m         \u001b[0mres\u001b[0m \u001b[0;34m=\u001b[0m \u001b[0mtransformer\u001b[0m\u001b[0;34m.\u001b[0m\u001b[0mfit_transform\u001b[0m\u001b[0;34m(\u001b[0m\u001b[0mX\u001b[0m\u001b[0;34m,\u001b[0m \u001b[0my\u001b[0m\u001b[0;34m,\u001b[0m \u001b[0;34m**\u001b[0m\u001b[0mfit_params\u001b[0m\u001b[0;34m)\u001b[0m\u001b[0;34m\u001b[0m\u001b[0m\n\u001b[0m\u001b[1;32m    582\u001b[0m     \u001b[0;32melse\u001b[0m\u001b[0;34m:\u001b[0m\u001b[0;34m\u001b[0m\u001b[0m\n\u001b[1;32m    583\u001b[0m         \u001b[0mres\u001b[0m \u001b[0;34m=\u001b[0m \u001b[0mtransformer\u001b[0m\u001b[0;34m.\u001b[0m\u001b[0mfit\u001b[0m\u001b[0;34m(\u001b[0m\u001b[0mX\u001b[0m\u001b[0;34m,\u001b[0m \u001b[0my\u001b[0m\u001b[0;34m,\u001b[0m \u001b[0;34m**\u001b[0m\u001b[0mfit_params\u001b[0m\u001b[0;34m)\u001b[0m\u001b[0;34m.\u001b[0m\u001b[0mtransform\u001b[0m\u001b[0;34m(\u001b[0m\u001b[0mX\u001b[0m\u001b[0;34m)\u001b[0m\u001b[0;34m\u001b[0m\u001b[0m\n",
      "\u001b[0;32m~/Tools/Anaconda3/lib/python3.7/site-packages/sklearn/base.py\u001b[0m in \u001b[0;36mfit_transform\u001b[0;34m(self, X, y, **fit_params)\u001b[0m\n\u001b[1;32m    518\u001b[0m         \u001b[0;32melse\u001b[0m\u001b[0;34m:\u001b[0m\u001b[0;34m\u001b[0m\u001b[0m\n\u001b[1;32m    519\u001b[0m             \u001b[0;31m# fit method of arity 2 (supervised transformation)\u001b[0m\u001b[0;34m\u001b[0m\u001b[0;34m\u001b[0m\u001b[0m\n\u001b[0;32m--> 520\u001b[0;31m             \u001b[0;32mreturn\u001b[0m \u001b[0mself\u001b[0m\u001b[0;34m.\u001b[0m\u001b[0mfit\u001b[0m\u001b[0;34m(\u001b[0m\u001b[0mX\u001b[0m\u001b[0;34m,\u001b[0m \u001b[0my\u001b[0m\u001b[0;34m,\u001b[0m \u001b[0;34m**\u001b[0m\u001b[0mfit_params\u001b[0m\u001b[0;34m)\u001b[0m\u001b[0;34m.\u001b[0m\u001b[0mtransform\u001b[0m\u001b[0;34m(\u001b[0m\u001b[0mX\u001b[0m\u001b[0;34m)\u001b[0m\u001b[0;34m\u001b[0m\u001b[0m\n\u001b[0m\u001b[1;32m    521\u001b[0m \u001b[0;34m\u001b[0m\u001b[0m\n\u001b[1;32m    522\u001b[0m \u001b[0;34m\u001b[0m\u001b[0m\n",
      "\u001b[0;32m~/Tools/Anaconda3/lib/python3.7/site-packages/sklearn/preprocessing/data.py\u001b[0m in \u001b[0;36mfit\u001b[0;34m(self, X, y)\u001b[0m\n\u001b[1;32m   1044\u001b[0m         \u001b[0;32mif\u001b[0m \u001b[0msparse\u001b[0m\u001b[0;34m.\u001b[0m\u001b[0missparse\u001b[0m\u001b[0;34m(\u001b[0m\u001b[0mX\u001b[0m\u001b[0;34m)\u001b[0m\u001b[0;34m:\u001b[0m\u001b[0;34m\u001b[0m\u001b[0m\n\u001b[1;32m   1045\u001b[0m             \u001b[0;32mraise\u001b[0m \u001b[0mTypeError\u001b[0m\u001b[0;34m(\u001b[0m\u001b[0;34m\"RobustScaler cannot be fitted on sparse inputs\"\u001b[0m\u001b[0;34m)\u001b[0m\u001b[0;34m\u001b[0m\u001b[0m\n\u001b[0;32m-> 1046\u001b[0;31m         \u001b[0mX\u001b[0m \u001b[0;34m=\u001b[0m \u001b[0mself\u001b[0m\u001b[0;34m.\u001b[0m\u001b[0m_check_array\u001b[0m\u001b[0;34m(\u001b[0m\u001b[0mX\u001b[0m\u001b[0;34m,\u001b[0m \u001b[0mself\u001b[0m\u001b[0;34m.\u001b[0m\u001b[0mcopy\u001b[0m\u001b[0;34m)\u001b[0m\u001b[0;34m\u001b[0m\u001b[0m\n\u001b[0m\u001b[1;32m   1047\u001b[0m         \u001b[0;32mif\u001b[0m \u001b[0mself\u001b[0m\u001b[0;34m.\u001b[0m\u001b[0mwith_centering\u001b[0m\u001b[0;34m:\u001b[0m\u001b[0;34m\u001b[0m\u001b[0m\n\u001b[1;32m   1048\u001b[0m             \u001b[0mself\u001b[0m\u001b[0;34m.\u001b[0m\u001b[0mcenter_\u001b[0m \u001b[0;34m=\u001b[0m \u001b[0mnp\u001b[0m\u001b[0;34m.\u001b[0m\u001b[0mmedian\u001b[0m\u001b[0;34m(\u001b[0m\u001b[0mX\u001b[0m\u001b[0;34m,\u001b[0m \u001b[0maxis\u001b[0m\u001b[0;34m=\u001b[0m\u001b[0;36m0\u001b[0m\u001b[0;34m)\u001b[0m\u001b[0;34m\u001b[0m\u001b[0m\n",
      "\u001b[0;32m~/Tools/Anaconda3/lib/python3.7/site-packages/sklearn/preprocessing/data.py\u001b[0m in \u001b[0;36m_check_array\u001b[0;34m(self, X, copy)\u001b[0m\n\u001b[1;32m   1024\u001b[0m         \u001b[0;34m\"\"\"Makes sure centering is not enabled for sparse matrices.\"\"\"\u001b[0m\u001b[0;34m\u001b[0m\u001b[0m\n\u001b[1;32m   1025\u001b[0m         X = check_array(X, accept_sparse=('csr', 'csc'), copy=self.copy,\n\u001b[0;32m-> 1026\u001b[0;31m                         estimator=self, dtype=FLOAT_DTYPES)\n\u001b[0m\u001b[1;32m   1027\u001b[0m \u001b[0;34m\u001b[0m\u001b[0m\n\u001b[1;32m   1028\u001b[0m         \u001b[0;32mif\u001b[0m \u001b[0msparse\u001b[0m\u001b[0;34m.\u001b[0m\u001b[0missparse\u001b[0m\u001b[0;34m(\u001b[0m\u001b[0mX\u001b[0m\u001b[0;34m)\u001b[0m\u001b[0;34m:\u001b[0m\u001b[0;34m\u001b[0m\u001b[0m\n",
      "\u001b[0;32m~/Tools/Anaconda3/lib/python3.7/site-packages/sklearn/utils/validation.py\u001b[0m in \u001b[0;36mcheck_array\u001b[0;34m(array, accept_sparse, dtype, order, copy, force_all_finite, ensure_2d, allow_nd, ensure_min_samples, ensure_min_features, warn_on_dtype, estimator)\u001b[0m\n\u001b[1;32m    451\u001b[0m                              % (array.ndim, estimator_name))\n\u001b[1;32m    452\u001b[0m         \u001b[0;32mif\u001b[0m \u001b[0mforce_all_finite\u001b[0m\u001b[0;34m:\u001b[0m\u001b[0;34m\u001b[0m\u001b[0m\n\u001b[0;32m--> 453\u001b[0;31m             \u001b[0m_assert_all_finite\u001b[0m\u001b[0;34m(\u001b[0m\u001b[0marray\u001b[0m\u001b[0;34m)\u001b[0m\u001b[0;34m\u001b[0m\u001b[0m\n\u001b[0m\u001b[1;32m    454\u001b[0m \u001b[0;34m\u001b[0m\u001b[0m\n\u001b[1;32m    455\u001b[0m     \u001b[0mshape_repr\u001b[0m \u001b[0;34m=\u001b[0m \u001b[0m_shape_repr\u001b[0m\u001b[0;34m(\u001b[0m\u001b[0marray\u001b[0m\u001b[0;34m.\u001b[0m\u001b[0mshape\u001b[0m\u001b[0;34m)\u001b[0m\u001b[0;34m\u001b[0m\u001b[0m\n",
      "\u001b[0;32m~/Tools/Anaconda3/lib/python3.7/site-packages/sklearn/utils/validation.py\u001b[0m in \u001b[0;36m_assert_all_finite\u001b[0;34m(X)\u001b[0m\n\u001b[1;32m     42\u001b[0m             and not np.isfinite(X).all()):\n\u001b[1;32m     43\u001b[0m         raise ValueError(\"Input contains NaN, infinity\"\n\u001b[0;32m---> 44\u001b[0;31m                          \" or a value too large for %r.\" % X.dtype)\n\u001b[0m\u001b[1;32m     45\u001b[0m \u001b[0;34m\u001b[0m\u001b[0m\n\u001b[1;32m     46\u001b[0m \u001b[0;34m\u001b[0m\u001b[0m\n",
      "\u001b[0;31mValueError\u001b[0m: Input contains NaN, infinity or a value too large for dtype('float64')."
     ]
    }
   ],
   "source": [
    "# Cross validation method 2\n",
    "skf = KFold(n_splits=10)\n",
    "\n",
    "for train, test in skf.split(X_data, y):\n",
    "    rfrpf = rfr_pipeline.fit(X_data.loc[train, ], y.loc[train, ])\n",
    "    rfrpfp = rfrpf.predict(X_data.loc[test, ])"
   ]
  }
 ],
 "metadata": {
  "kernelspec": {
   "display_name": "Python 3",
   "language": "python",
   "name": "python3"
  },
  "language_info": {
   "codemirror_mode": {
    "name": "ipython",
    "version": 3
   },
   "file_extension": ".py",
   "mimetype": "text/x-python",
   "name": "python",
   "nbconvert_exporter": "python",
   "pygments_lexer": "ipython3",
   "version": "3.7.0"
  }
 },
 "nbformat": 4,
 "nbformat_minor": 2
}
