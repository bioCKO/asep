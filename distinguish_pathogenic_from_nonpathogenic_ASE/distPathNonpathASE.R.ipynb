{
 "cells": [
  {
   "cell_type": "code",
   "execution_count": 34,
   "metadata": {
    "collapsed": true
   },
   "outputs": [],
   "source": [
    "#!/usr/bin/env Rscript\n",
    "#\n",
    "##\n",
    "### author: zhzhang\n",
    "### e-mail: zhzhang2015@sina.com / zhenghua.zhang217@gmail.com\n",
    "### data  : 2018.10.31\n",
    "##\n",
    "#\n",
    "################################################################################"
   ]
  },
  {
   "cell_type": "code",
   "execution_count": 47,
   "metadata": {
    "collapsed": false
   },
   "outputs": [
    {
     "name": "stderr",
     "output_type": "stream",
     "text": [
      "2018-10-31,15:28:45 <IRkernel::main()> INFO: === Start ===\n"
     ]
    }
   ],
   "source": [
    "# Logging function\n",
    "lg.info <- function(m, ln='INFO'){ \n",
    "    timeStamp <- strftime(Sys.time(), \"%Y-%m-%d,%H:%M:%S\")\n",
    "    reporterName <- commandArgs()\n",
    "    levelName <- ln\n",
    "    message(timeStamp, ' <', reporterName[4], '> ', levelName, ': ', m)\n",
    "}\n",
    "\n",
    "lg.info('=== Start ===')"
   ]
  },
  {
   "cell_type": "code",
   "execution_count": 48,
   "metadata": {
    "collapsed": false
   },
   "outputs": [
    {
     "name": "stderr",
     "output_type": "stream",
     "text": [
      "2018-10-31,15:28:45 <IRkernel::main()> INFO: Loading necessay library...\n"
     ]
    }
   ],
   "source": [
    "# Loading necessay library\n",
    "lg.info('Loading necessay library...')\n",
    "\n",
    "library(dplyr)\n",
    "library(tidyr)"
   ]
  },
  {
   "cell_type": "code",
   "execution_count": 49,
   "metadata": {
    "collapsed": false
   },
   "outputs": [
    {
     "name": "stderr",
     "output_type": "stream",
     "text": [
      "2018-10-31,15:28:45 <IRkernel::main()> INFO: Arranging working dirs...\n"
     ]
    }
   ],
   "source": [
    "# Arrange working dirs\n",
    "lg.info('Arranging working dirs...')\n",
    "\n",
    "hmDir <- '/home/umcg-zzhang'\n",
    "pjDir <- paste0(hmDir, '/projects', '/ASEpredictor')\n",
    "pjIpDir <- paste0(pjDir, '/inputs')\n",
    "pjOpDir <- paste0(pjDir, '/outputs')\n",
    "pjScDir <- paste0(pjDir, '/scripts')\n",
    "pjMsDir <- paste0(pjDir, '/miscellanies')\n",
    "pjTpDir <- paste0(pjDir, '/tmp')"
   ]
  },
  {
   "cell_type": "code",
   "execution_count": 61,
   "metadata": {
    "collapsed": false
   },
   "outputs": [
    {
     "name": "stderr",
     "output_type": "stream",
     "text": [
      "2018-10-31,15:36:49 <IRkernel::main()> INFO: Arrange input and output files...\n"
     ]
    }
   ],
   "source": [
    "# Arrange input and output files\n",
    "lg.info('Arrange input and output files...')\n",
    "\n",
    "af <- 0.001  # threshold of allele frequency for filtering\n",
    "\n",
    "#\n",
    "##\n",
    "### PLEASE CHANGE the VALUE of debug WHEN \n",
    "##\n",
    "#\n",
    "\n",
    "debug <- FALSE  \n",
    "ext <- if (debug) '_debug' else ''\n",
    "\n",
    "pjIpFile  <- paste0(pjOpDir, '/biosGavinOverlapCov10', '/biosGavinOverlapCov10Anno.tsv')\n",
    "pjOpUfFile <- paste0(pjOpDir, '/biosGavinOverlapCov10', '/biosGavinOverlapCov10AnnoUnFiltered.tsv', ext)\n",
    "pjOpFcFile <- paste0(pjOpDir, '/biosGavinOverlapCov10', '/biosGavinOverlapCov10AnnoFilteredByLog2FC.tsv', ext)\n",
    "pjOpAfFile <- paste0(pjOpDir, '/biosGavinOverlapCov10', '/biosGavinOverlapCov10AnnoFilteredByAf', as.character(af), '.tsv', ext)"
   ]
  },
  {
   "cell_type": "code",
   "execution_count": 62,
   "metadata": {
    "collapsed": false,
    "scrolled": true
   },
   "outputs": [
    {
     "name": "stderr",
     "output_type": "stream",
     "text": [
      "2018-10-31,15:36:52 <IRkernel::main()> INFO: Reading file...\n"
     ]
    }
   ],
   "source": [
    "# Loading file\n",
    "lg.info('Reading file...')\n",
    "df <- read.csv(pjIpFile, header=1, sep='\\t')"
   ]
  },
  {
   "cell_type": "code",
   "execution_count": 63,
   "metadata": {
    "collapsed": false
   },
   "outputs": [
    {
     "name": "stderr",
     "output_type": "stream",
     "text": [
      "2018-10-31,15:36:53 <IRkernel::main()> INFO: Applying FILTER to the data frame...\n"
     ]
    }
   ],
   "source": [
    "# Filtering data\n",
    "lg.info('Discard records with low coverage...')\n",
    "covSum <- 10\n",
    "fil <- which((df$refCountsBios + df$altCountsBios>=covSum) & (df$refCountsBios>0) & (df$altCountsBios>0))\n",
    "df <- df[fil, ]"
   ]
  },
  {
   "cell_type": "code",
   "execution_count": 65,
   "metadata": {
    "collapsed": false
   },
   "outputs": [
    {
     "name": "stderr",
     "output_type": "stream",
     "text": [
      "2018-10-31,15:42:01 <IRkernel::main()> INFO: Applying Binomial test...\n"
     ]
    }
   ],
   "source": [
    "# Do exact binomial test\n",
    "##\n",
    "### Take the amount of reads supporting reference allele as 'success'\n",
    "##\n",
    "#\n",
    "lg.info('Applying Binomial test...')\n",
    "df$pVal <- lapply(\n",
    "    mapply(\n",
    "        binom.test, df$refCountsBios, \n",
    "        df$refCountsBios+df$altCountsBios, \n",
    "        SIMPLIFY=FALSE\n",
    "    ), function(x) return(x$p.value)\n",
    ")"
   ]
  },
  {
   "cell_type": "code",
   "execution_count": 66,
   "metadata": {
    "collapsed": false
   },
   "outputs": [
    {
     "name": "stderr",
     "output_type": "stream",
     "text": [
      "2018-10-31,15:42:17 <IRkernel::main()> INFO: Overall multiple tests adjust...\n",
      "2018-10-31,15:42:17 <IRkernel::main()> INFO: Variant-wised multiple tests adjust...\n"
     ]
    }
   ],
   "source": [
    "# Two stratgies for correction. The first is for all p values; second for each site\n",
    "## Str 1. Considering all p values\n",
    "lg.info('Overall multiple tests adjust...')\n",
    "df$FDROverall <- p.adjust(df$pVal, method='fdr')\n",
    "\n",
    "## Str 2. Considering per variant\n",
    "#\n",
    "##\n",
    "### There is a trick. <<- and ->> operators can cause a search through \n",
    "### parent enviroments for an existing definition of the variable being\n",
    "### assigned\n",
    "##\n",
    "lg.info('Variant-wised multiple tests adjust...')\n",
    "papr <- function(x) {df[rownames(x), 'FDRPerVariant'] <<- p.adjust(x$pVal)}\n",
    "invisible( by(data=df, INDICES=list(df$chr, df$pos, df$ref, df$alt), \n",
    "              FUN=papr, simplify=TRUE)\n",
    ")"
   ]
  },
  {
   "cell_type": "code",
   "execution_count": 55,
   "metadata": {
    "collapsed": false
   },
   "outputs": [
    {
     "name": "stderr",
     "output_type": "stream",
     "text": [
      "2018-10-31,15:28:49 <IRkernel::main()> INFO: Calculating log 2 fold change(altCounts / refCounts)... \n"
     ]
    }
   ],
   "source": [
    "# Add column of log2 fold change\n",
    "lg.info('Calculating log 2 fold change(altCounts / refCounts)... ')\n",
    "df$log2FC <- log2(df$altCountsBios / df$refCountsBios)"
   ]
  },
  {
   "cell_type": "code",
   "execution_count": 56,
   "metadata": {
    "collapsed": false
   },
   "outputs": [
    {
     "name": "stderr",
     "output_type": "stream",
     "text": [
      "2018-10-31,15:28:49 <IRkernel::main()> INFO: Write unfiltered file to the drive...\n"
     ]
    }
   ],
   "source": [
    "# Write unfiltered df into drive\n",
    "lg.info('Write unfiltered file to the drive...')\n",
    "write.table(x=df, file=pjOpUfFile, sep='\\t', row.names=FALSE, quote=FALSE)"
   ]
  },
  {
   "cell_type": "code",
   "execution_count": 57,
   "metadata": {
    "collapsed": false
   },
   "outputs": [
    {
     "name": "stderr",
     "output_type": "stream",
     "text": [
      "2018-10-31,15:28:50 <IRkernel::main()> INFO: Filtering by FDR( FDRPerVariant)...\n",
      "2018-10-31,15:28:50 <IRkernel::main()> INFO: Filtering by allele frequency(AF)...\n",
      "2018-10-31,15:28:50 <IRkernel::main()> INFO: Write DF filtered by AF to the drive...\n",
      "2018-10-31,15:28:50 <IRkernel::main()> INFO: Filtering by log2 of fold change(log2FC, FC = altCounts/refCounts)...\n",
      "2018-10-31,15:28:50 <IRkernel::main()> INFO: Write DF filtered by log2FC to the drive...\n"
     ]
    }
   ],
   "source": [
    "# Filtering\n",
    "fltn <- 'FDRPerVariant'\n",
    "lg.info(paste0('Filtering by FDR( ', fltn, ')...'))\n",
    "flt <- which(df$FDRPerVariant <= 0.05)\n",
    "df <- df[flt, ]\n",
    "\n",
    "## Filter by AF\n",
    "fltn <- 'allele frequency(AF)'\n",
    "lg.info(paste0('Filtering by ', fltn, '...'))\n",
    "flt <- which(df$gnomad_AF <= af)\n",
    "dfFltAf <- df[flt, ]\n",
    "\n",
    "## Write to drive \n",
    "lg.info('Write DF filtered by AF to the drive...')\n",
    "write.table(x=dfFltAf, file=pjOpAfFile, sep='\\t', row.names=FALSE, quote=FALSE)\n",
    "\n",
    "## Filter by log2FC\n",
    "fltn <- 'log2 of fold change(log2FC, FC = altCounts/refCounts)'\n",
    "lg.info(paste0('Filtering by ', fltn, '...'))\n",
    "flt <- which((df$log2FC >= 1) | (df$log2FC <= -1))\n",
    "dfFltFC <- df[flt, ]\n",
    "\n",
    "## Write to drive \n",
    "lg.info('Write DF filtered by log2FC to the drive...')\n",
    "write.table(x=dfFltFC, file=pjOpFcFile, sep='\\t', row.names=FALSE, quote=FALSE)"
   ]
  },
  {
   "cell_type": "code",
   "execution_count": 67,
   "metadata": {
    "collapsed": false
   },
   "outputs": [],
   "source": [
    "# set.seed(1234)\n",
    "# df <- data.frame(\n",
    "#     ref=rbinom(10, 100, 0.5), alt=rbinom(10, 100, 0.9), \n",
    "#     group=sample(1:2,20, rep=T), gender=sample(1:2, 20, rep=T)\n",
    "# )\n",
    "\n",
    "# df$pVal <- lapply(mapply(binom.test, df$ref, df$ref+df$alt, SIMPLIFY=FALSE), function(x) x$p.value)\n",
    "\n",
    "# invisible( by(df, list(df$group, df$gender), \n",
    "#          function(x) df[rownames(x), 'pAdj']<<-p.adjust(x$pVal), \n",
    "#          simplify=TRUE)\n",
    "# )\n",
    "\n",
    "# df"
   ]
  }
 ],
 "metadata": {
  "kernelspec": {
   "display_name": "R",
   "language": "R",
   "name": "ir"
  },
  "language_info": {
   "codemirror_mode": "r",
   "file_extension": ".r",
   "mimetype": "text/x-r-source",
   "name": "R",
   "pygments_lexer": "r",
   "version": "3.3.3"
  }
 },
 "nbformat": 4,
 "nbformat_minor": 2
}
