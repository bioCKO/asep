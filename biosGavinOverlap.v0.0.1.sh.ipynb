{
 "cells": [
  {
   "cell_type": "code",
   "execution_count": null,
   "metadata": {
    "collapsed": true
   },
   "outputs": [],
   "source": [
    "#!/bin/bash\n",
    "#SBATCH --time=2:0:00\n",
    "#SBATCH --ntasks=1\n",
    "#SBATCH --cpus-per-task=1\n",
    "#SBATCH --mem-per-cpu=10G\n",
    "#SBATCH --job-name=biosGavinOverlap.v0.0.1\n",
    "#SBATCH --output=%j-%u.log"
   ]
  },
  {
   "cell_type": "code",
   "execution_count": null,
   "metadata": {
    "collapsed": true
   },
   "outputs": [],
   "source": [
    "# Directories already existed\n",
    "pjDir=/home/umcg-zzhang/umcg-zzhang/projects/ASEpredictor\n",
    "pjIpDir=${pjDir}/inputs\n",
    "pjOpDir=${pjDir}/outputs\n",
    "\n",
    "# Directories to be created"
   ]
  },
  {
   "cell_type": "code",
   "execution_count": null,
   "metadata": {
    "collapsed": true
   },
   "outputs": [],
   "source": [
    "# Variables to control scripts\n",
    "fCov=10  # The NO. of total counts is greater than ${fCov}\n",
    "\n",
    "\n",
    "# echo \"Step 1...\"\n",
    "echo \"Step 1 was done ...\"\n",
    "# Step 1 Merge all recordes by chrommosome\n",
    "\n",
    "# ipDir=/groups/umcg-bios/tmp03/projects\n",
    "# ipDir=${ipDir}/genotypes_BIOS_LLDeep_Diagnostics_merged_phasing_noRnaEditing\n",
    "# ipDir=${ipDir}/results/phasing/readbackedPhasing/allelic_counts_mergedPerSample\n",
    "# Example of input file\n",
    "# contig\tposition\tvariantID\t      refAllele  altAllele\trefCount\taltCount\ttotalCount\n",
    "# 1         101704532\t1_101704532_G_T\t  G\t         T\t        13\t        10\t        23\t      \n",
    "\n",
    "# opDir=${pjIpDir}/allelicCountsPerChr\n",
    "# mkdir -p ${opDir}\n",
    "# Example of output file\n",
    "# contig\tposition\tvariantID\t      refAllele  altAllele\trefCount\taltCount\ttotalCount\tsample\n",
    "# 1         101704532\t1_101704532_G_T\t  G\t         T\t        13\t        10\t        23\t        AC1C40ACXX-1-18_BD2D5MACXX-6-18\n",
    "# header=\"contig\\tposition\\tvariantID\\trefAllele\\taltAllele\"\n",
    "# header=${header}\"\\trefCount\\taltCount\\ttotalCount\\tsample\"\n",
    "# for x in chr{1..22}; do\n",
    "# \topFile=${x}_BiosAllelicCounts.tsv\n",
    "# \techo -e ${header} > ${opDir}/${opFile}\n",
    "# \tawk 'FNR > 1 { split(FILENAME, ARR, \".\"); print $0\"\\t\"ARR[2] }' \\\n",
    "# \t\t${ipDir}/${x}/* >> ${opDir}/${opFile} 2>/dev/null\n",
    "# \techo -e \"${opFile} was done... \"\n",
    "# done"
   ]
  },
  {
   "cell_type": "code",
   "execution_count": null,
   "metadata": {
    "collapsed": true
   },
   "outputs": [],
   "source": [
    "# echo \"Step 2.1...\"\n",
    "echo \"Step 2.1 was done...\"\n",
    "# Step 2.1 Filtering allelic count records by cov and convert into BED format\n",
    "# XXX: the position of BED records are 0-based\n",
    "\n",
    "\n",
    "ipDir=${opDir}\n",
    "# ipFile=\n",
    "# Example of input file\n",
    "# contig\tposition\tvariantID\t      refAllele  altAllele\trefCount\taltCount\ttotalCount\tsample\n",
    "# 1         101704532\t1_101704532_G_T\t  G\t         T\t        13\t        10\t        23\t        AC1C40ACXX-1-18_BD2D5MACXX-6-18\n",
    "\n",
    "opDir=${pjOpDir}/allelicCountsPerChrCov${fCov}\n",
    "opFile=allelicCountsPerChrCov${fCov}.bed\n",
    "# Example of output file\n",
    "\n",
    "# mkdir -p ${opDir}\n",
    "\n",
    "# for ipFile in $(ls ${ipDir}); do \n",
    "# \tawk -v fCov=${fCov} ' FNR > 1 { if($8 >= fCov) {print $1\"\\t\"$2-1\"\\t\"$2\"\\t\"$3\"_\"$6\"_\"$7\"_\"$9} }'\\\n",
    "# \t\t${ipDir}/${ipFile}\n",
    "# done > ${opDir}/${opFile}\n",
    "\n",
    "biosIpDir=${opDir}\n",
    "biosIpFile=${opFile}"
   ]
  },
  {
   "cell_type": "code",
   "execution_count": null,
   "metadata": {
    "collapsed": true
   },
   "outputs": [],
   "source": [
    "echo \"Step 2.2...\"\n",
    "# echo \"Step 2.2 was done\"\n",
    "# Step 2.2 Filtering GAVIN records \n",
    "\n",
    "ipDir=/home/umcg-zzhang/umcg-zzhang/projects/ASEpredictor/inputs/GAVIN\n",
    "ipFile=gavin_r0.5_calibvars.plusbenign.cadd_v1.4annot.gnomad.tsv\n",
    "# Example of input records\n",
    "# gene   chr pos      ref alt group      effect               impact cadd CaddChrom CaddPos  CaddRef CaddAlt Type Length AnnoType   Consequence      ConsScore ConsDetail   GC             CpG             motifECount motifEName motifEHIPos motifEScoreChng oAA nAA GeneID FeatureID GeneName CCDS Intron Exon cDNApos relcDNApos CDSpos relCDSpos protPos relProtPos Domain Dst2Splice Dst2SplType minDistTSS minDistTSE SIFTcat SIFTval PolyPhenCat PolyPhenVal priPhCons mamPhCons verPhCons priPhyloP mamPhyloP verPhyloP bStatistic targetScan mirSVR-Score mirSVR-E mirSVR-Aln cHmmTssA cHmmTssAFlnk cHmmTxFlnk cHmmTx cHmmTxWk cHmmEnhG cHmmEnh cHmmZnfRpts cHmmHet cHmmTssBiv cHmmBivFlnk cHmmEnhBiv cHmmReprPC cHmmReprPCWk cHmmQuies GerpRS GerpRSpval GerpN GerpS TFBS TFBSPeaks TFBSPeaksMax tOverlapMotifs motifDist Segway EncH3K27Ac EncH3K4Me1 EncH3K4Me3 EncExp EncNucleo EncOCC EncOCCombPVal EncOCDNasePVal EncOCFairePVal EncOCpolIIPVal EncOCctcfPVal EncOCmycPVal EncOCDNaseSig EncOCFaireSig EncOCpolIISig EncOCctcfSig EncOCmycSig Grantham Dist2Mutation Freq100bp Rare100bp Sngl100bp Freq1000bp Rare1000bp Sngl1000bp Freq10000bp Rare10000bp Sngl10000bp dbscSNV-ada_score dbscSNV-rf_score RawScore PHRED gnomad_AF\n",
    "# NUP107 12  69107589 G   A   PATHOGENIC splice_donor_variant HIGH   29.3 12        69107589 G       A       SNV  0      Transcript CANONICAL_SPLICE 6         splice_donor 0.370860927152 0.0666666666667 NA          NA NA NA NA NA ENSG00000111581 ENST00000229179 NUP107 CCDS8985.1 11/27 NA NA NA NA NA NA NA NA -1 DONOR 4586 570 NA NA NA NA 0.676 1.000 1.000 0.451 2.431 3.514 492 NA NA NA NA 0.000 0.000 0.000 0.457 0.512 0.000 0.008 0.000 0.000 0.000 0.000 0.000 0.000 0.000 0.024 293 1.31483e-43 4.9 4.9 NA NA NA NA NA GE1 3.0 2.0 3.52 33.6431 0.6 NA NA NA NA NA NA NA NA NA NA NA NA NA 72 0 0 7 0 4 55 13 52 569 0.999988247793601 0.934 4.121872 29.3 0.0 \n",
    "\n",
    "# Example of output records\n",
    "opDir=${ipDir}\n",
    "opFile=${ipFile/.tsv/.bed}\n",
    "\n",
    "awk ' FNR > 1 { printf $2\"\\t\"$3-1\"\\t\"$3\"\\t\"; line=$1; for(i=2; i<=NF; i++){line=line\"|\"$i;} printf line\"\\n\"; }' \\\n",
    "\t${ipDir}/${ipFile} > ${opDir}/${opFile}"
   ]
  },
  {
   "cell_type": "code",
   "execution_count": null,
   "metadata": {
    "collapsed": true
   },
   "outputs": [],
   "source": [
    "echo \"Step 3...\"\n",
    "# echo \"Step 3 was done...\"\n",
    "# Step 3 Intersection by BEDTools\n",
    "gavinIpDir=${opDir}\n",
    "gavinIpFile=${opFile}\n",
    "opDir=${pjOpDir}/biosGavinOverlapCov${fCov}\n",
    "opFile=biosGavinOverlapCov${fCov}.bed\n",
    "\n",
    "mkdir -p ${opDir}\n",
    "\n",
    "module list\n",
    "module load BEDTools\n",
    "module list\n",
    "bedtools intersect \\\n",
    "\t-wa -wb \\\n",
    "\t-a ${biosIpDir}/${biosIpFile} \\\n",
    "\t-b ${gavinIpDir}/${gavinIpFile} \\\n",
    "\t> ${opDir}/${opFile}"
   ]
  },
  {
   "cell_type": "code",
   "execution_count": null,
   "metadata": {
    "collapsed": true
   },
   "outputs": [],
   "source": [
    "echo \"Step 4...\"\n",
    "# Step 4 Make annotation based on \n",
    "ipDir=${opDir}\n",
    "ipFile=${opFile}\n",
    "opDir=${opDir}\n",
    "opFile=biosGavinOverlapCov${fCov}Anno.tsv\n",
    "\n",
    "\n",
    "# chr start stop variantID chr start stop variantInfo\n",
    "awk ' { n=split($4, arrA, \"_\"); lineA=arrA[1]\"\\t\"arrA[2]\"\\t\"arrA[3]\"\\t\"arrA[4]\"\\t\"arrA[5]\"\\t\"arrA[6]\"\\t\"arrA[7]; for(i=8; i<=n; i++){lineA=lineA\"_\"arrA[i]} m=split($8, arrB, \"|\"); lineB=arrB[1]; for (i=2; i<=m; i++){ lineB=lineB\"\\t\"arrB[i]; } printf lineB\"\\t\"lineA\"\\n\"; }' \\\n",
    "${ipDir}/${ipFile} > ${opDir}/${opFile}\n",
    "\n"
   ]
  },
  {
   "cell_type": "code",
   "execution_count": null,
   "metadata": {
    "collapsed": true
   },
   "outputs": [],
   "source": [
    "echo \"Step 5 ...\"\n",
    "# Step draw pictures\n",
    "ipDir=\n",
    "opDir="
   ]
  },
  {
   "cell_type": "code",
   "execution_count": null,
   "metadata": {
    "collapsed": true
   },
   "outputs": [],
   "source": [
    "echo \"Done $(date)\""
   ]
  }
 ],
 "metadata": {
  "kernelspec": {
   "display_name": "Bash",
   "language": "bash",
   "name": "bash"
  },
  "language_info": {
   "codemirror_mode": "shell",
   "file_extension": ".sh",
   "mimetype": "text/x-sh",
   "name": "bash"
  }
 },
 "nbformat": 4,
 "nbformat_minor": 2
}
