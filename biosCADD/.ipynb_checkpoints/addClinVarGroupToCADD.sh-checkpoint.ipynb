{
 "cells": [
  {
   "cell_type": "code",
   "execution_count": null,
   "metadata": {},
   "outputs": [],
   "source": [
    "#!/bin/bash\n",
    "################################################################################\n",
    "#   File Name  : addClinVarGroupToCADD.sh\n",
    "##  Author     : zhzhang\n",
    "### E-mail     : zhzhang2015@sina.com\n",
    "### Created on : Sun 11 Nov 2018 06:33:42 PM CET\n",
    "##  Version    : unknown\n",
    "#   License    : MIT\n",
    "################################################################################\n",
    "#SBATCH --time          = 1:0:0\n",
    "#SBATCH --output        = %j-%u-addClinVarGroupToCADD.sh.log\n",
    "#SBATCH --job-name      = addClinVarGroupToCADD.sh\n",
    "#SBATCH --ntasks        = 1\n",
    "#SBATCH --cpus_per_task = 1\n",
    "#SBATCH --mem_per_cpu   = 1G"
   ]
  },
  {
   "cell_type": "code",
   "execution_count": null,
   "metadata": {},
   "outputs": [],
   "source": [
    "# Load modules\n",
    "module list\n",
    "module load BCFtools\n",
    "module list"
   ]
  },
  {
   "cell_type": "code",
   "execution_count": null,
   "metadata": {},
   "outputs": [],
   "source": [
    "# Arrange working directories\n",
    "pjDir='/home/umcg-zzhang/Documents/projects/ASEpredictor'\n",
    "pjIpDir=${pjDir}/inputs\n",
    "pjOpDir=${pjDir}/outputs\n",
    "\n",
    "caddDir=${pjOpDir}/biosCADD\n",
    "caddIpDir=${caddDir}\n",
    "caddIpFile=${caddDir}/biosCDD.tvs\n",
    "\n",
    "cvDir='/apps/data/ClinVar'\n",
    "cvIpDir=${cvIpDir}\n",
    "cvIpFile=${cvIpDir}/clinvar_20180401.vcf.gz\n",
    "\n",
    "uOpDir='/apps/data/ClinVar'\n",
    "uOpFile=${uOpFile}/"
   ]
  },
  {
   "cell_type": "code",
   "execution_count": null,
   "metadata": {},
   "outputs": [],
   "source": [
    "opFm='%CHROM\\t%POS\\t%ID\\t%REF\\t%ALT\\t%INFO/AF_EXAC\\t%INFO/CLNSIG\\n'   # Output format\n",
    "incEx='TYPE=\"snp\"'  # Including sites"
   ]
  },
  {
   "cell_type": "code",
   "execution_count": null,
   "metadata": {},
   "outputs": [],
   "source": [
    "bcftools query \\\n",
    "    -f ${opFm} \\\n",
    "    -i ${incEx} \\\n",
    "    -T ${caddIpFile} \\\n",
    "    -o ${uOpFile}"
   ]
  }
 ],
 "metadata": {
  "kernelspec": {
   "display_name": "Bash",
   "language": "bash",
   "name": "bash"
  },
  "language_info": {
   "codemirror_mode": "shell",
   "file_extension": ".sh",
   "mimetype": "text/x-sh",
   "name": "bash"
  }
 },
 "nbformat": 4,
 "nbformat_minor": 2
}
