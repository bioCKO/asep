{
 "cells": [
  {
   "cell_type": "code",
   "execution_count": 35,
   "metadata": {
    "collapsed": true
   },
   "outputs": [],
   "source": [
    "#!/usr/bin/env python3\n",
    "# -*- coding : utf-8 -*-\n",
    "#\n",
    "##\n",
    "### author: zhzhang\n",
    "### e-mail: zhzhang2015@sina.com / zhenhua.zhang217@gmail.com\n",
    "### data  : 2018.11.5\n",
    "##\n",
    "#\n",
    "################################################################################"
   ]
  },
  {
   "cell_type": "code",
   "execution_count": 2,
   "metadata": {
    "collapsed": true
   },
   "outputs": [],
   "source": [
    "# Outline by Morris\n",
    "\n",
    "## Extract BIOS variants list(chrom, pos, alt) from BIOS data\n",
    "## Ask permission to sent this variant list through CADD\n",
    "## Create a machine learning feature set based on CADD + benign/pathogenic/unknown classifications\n",
    "## Training machine learning model targeting ASE as quantitative trait, or if sasier as binary trait(using threshold)\n",
    "## In case pathogenicity is a feature with reasonable weight in the model THEN do pathogenic/benign/population seperately\n"
   ]
  },
  {
   "cell_type": "code",
   "execution_count": 3,
   "metadata": {
    "collapsed": true
   },
   "outputs": [],
   "source": [
    "# Step 1 \n",
    "# Filter the BIOS variant by the following:\n",
    "# 1. Ensure the chr, pos and alt->ref are consistent\n",
    "# 2. FDRPerVariant < 0.05\n",
    "# 3. (optional) |log2FC| > 1.0; \n",
    "#    Chi square test > 0.01; \n",
    "#    in case of BENIGN group, gnomAD_AF < mean of BENIGN\n",
    "## !!!!! DISCARD THE STEPS IN THIS CELL !!!!!\n"
   ]
  },
  {
   "cell_type": "code",
   "execution_count": 4,
   "metadata": {
    "collapsed": true
   },
   "outputs": [],
   "source": [
    "# Step 1\n",
    "# Filter the BIOS variant by the following:\n",
    "# 1. Ensure the chr, pos and alt->ref are consistent.\n",
    "\n",
    "# header = ['gene', 'chr', 'pos', 'ref', 'alt', 'group', 'effect', 'impact', \n",
    "# 'cadd', 'CaddChrom', 'CaddPos', 'CaddRef', 'CaddAlt', 'Type', 'Length', \n",
    "# 'AnnoType', 'Consequence', 'ConsScore', 'ConsDetail', 'GC', 'CpG', 'motifECount', \n",
    "# 'motifEName', 'motifEHIPos', 'motifEScoreChng', 'oAA', 'nAA', 'GeneID', 'FeatureID', \n",
    "# 'GeneName', 'CCDS', 'Intron', 'Exon', 'cDNApos', 'relcDNApos', 'CDSpos', \n",
    "# 'relCDSpos', 'protPos', 'relProtPos', 'Domain', 'Dst2Splice', 'Dst2SplType', \n",
    "# 'minDistTSS', 'minDistTSE', 'SIFTcat', 'SIFTval', 'PolyPhenCat', 'PolyPhenVal', \n",
    "# 'priPhCons', 'mamPhCons', 'verPhCons', 'priPhyloP', 'mamPhyloP', 'verPhyloP', \n",
    "# 'bStatistic', 'targetScan', 'mirSVR-Score', 'mirSVR-E', 'mirSVR-Aln', \n",
    "# 'cHmmTssA', 'cHmmTssAFlnk', 'cHmmTxFlnk', 'cHmmTx', 'cHmmTxWk', 'cHmmEnhG', \n",
    "# 'cHmmEnh', 'cHmmZnfRpts', 'cHmmHet', 'cHmmTssBiv', 'cHmmBivFlnk', 'cHmmEnhBiv', \n",
    "# 'cHmmReprPC', 'cHmmReprPCWk', 'cHmmQuies', 'GerpRS', 'GerpRSpval', 'GerpN', \n",
    "# 'GerpS', 'TFBS', 'TFBSPeaks', 'TFBSPeaksMax', 'tOverlapMotifs', 'motifDist', \n",
    "# 'Segway', 'EncH3K27Ac', 'EncH3K4Me1', 'EncH3K4Me3', 'EncExp', 'EncNucleo', \n",
    "# 'EncOCC', 'EncOCCombPVal', 'EncOCDNasePVal', 'EncOCFairePVal', 'EncOCpolIIPVal', \n",
    "# 'EncOCctcfPVal', 'EncOCmycPVal', 'EncOCDNaseSig', 'EncOCFaireSig', 'EncOCpolIISig', \n",
    "# 'EncOCctcfSig', 'EncOCmycSig', 'Grantham', 'Dist2Mutation', 'Freq100bp', \n",
    "# 'Rare100bp', 'Sngl100bp', 'Freq1000bp', 'Rare1000bp', 'Sngl1000bp', 'Freq10000bp', \n",
    "# 'Rare10000bp', 'Sngl10000bp', 'dbscSNV-ada_score', 'dbscSNV-rf_score', 'RawScore', \n",
    "# 'PHRED', 'gnomad_AF', 'chrBios', 'posBios', 'refAlleleBios', 'altAlleleBios', \n",
    "# 'refCountsBios', 'altCountsBios', 'sampleBios', 'pVal', 'FDROverall', \n",
    "# 'FDRPerVariant', 'varInsideChi2Pval', 'log2FC' ]"
   ]
  },
  {
   "cell_type": "code",
   "execution_count": 8,
   "metadata": {
    "collapsed": true
   },
   "outputs": [
    {
     "name": "stdout",
     "output_type": "stream",
     "text": [
      "chr 2\n",
      "pos 3\n",
      "ref 4\n",
      "alt 5\n",
      "group 6\n",
      "chrBios 118\n",
      "posBios 119\n",
      "refAlleleBios 120\n",
      "altAlleleBios 121\n"
     ]
    }
   ],
   "source": [
    "# candidates = ['chr', 'pos', 'ref', 'alt', 'group', 'chrBios', 'posBios', \n",
    "#              'refAlleleBios', 'altAlleleBios']\n",
    "# for x in candidates:\n",
    "#    print(x, header.index(x) + 1)"
   ]
  },
  {
   "cell_type": "code",
   "execution_count": 22,
   "metadata": {
    "collapsed": true
   },
   "outputs": [],
   "source": [
    "#!/usr/bin/env python3\n",
    "# -*- coding : utf-8 -*-\n",
    "#\n",
    "##\n",
    "### author: zhzhang\n",
    "### e-mail: zhzhang2015@sina.com / zhenhua.zhang217@gmail.com\n",
    "### data  : 2018.11.5\n",
    "### name  : fgBiosVariants.py  filter and get BIOS variants\n",
    "##\n",
    "#\n",
    "################################################################################\n",
    "\n",
    "# Load libraries\n",
    "import os\n",
    "import sys                                                                      \n",
    "import time\n",
    "import logging\n",
    "\n",
    "ct = time.clock()  # Time counting starts\n",
    "\n",
    "# Create stream handler of logging\n",
    "## Logging info formatter\n",
    "FORMATTER = '%(asctime)s <%(name)s> %(levelname)s: %(message)s'\n",
    "formatter = logging.Formatter(FORMATTER, '%Y-%m-%d,%H:%M:%S')\n",
    "\n",
    "## Set up main logging stream and formatter\n",
    "ch = logging.StreamHandler()\n",
    "ch.setLevel(logging.INFO)\n",
    "ch.setFormatter(formatter)\n",
    "\n",
    "# Set up logging\n",
    "lg = logging.getLogger()\n",
    "lg.setLevel(logging.INFO)         # default logging level INFO\n",
    "lg.addHandler(ch)\n",
    "lg.info(\"=== Start ... ===\")\n",
    "\n",
    "# Load extra modules\n",
    "lg.info(\"Load extra modules...\")\n",
    "from os.path import join\n",
    "\n",
    "# Arrange working dirs\n",
    "lg.info('Arrange working dirs...')\n",
    "pjDir = '/home/umcg-zzhang/Documents/projects/ASEpredictor'\n",
    "pjIpDir = join(pjDir, 'inputs')\n",
    "pjOpDir = join(pjDir, 'outputs')\n",
    "\n",
    "wkDir = join(pjOpDir, 'biosGavinOverlapCov10')\n",
    "ipfn = join(wkDir, 'biosGavinOverlapCov10AnnoUnFiltered.tsv')\n",
    "opfn = join(wkDir, 'biosGavinOlCv10AntUfltCst.tsv')            # bios GAVIN overlap coverage 10 annotated unfiltered consistent\n",
    "epfn = join(wkDir, 'biosGavinOlCv10AntUfltUncst.tsv')          # bios GAVIN overlap coverage 10 annotated unfiltered unconsistent\n",
    "\n",
    "# Filter the unconsistent recordes\n",
    "descriptDict = { \n",
    "    0: 'no_css',             # all not consistent.\n",
    "    1: 'chr_css',            # chr is consistent.\n",
    "    2: 'pos_css',            # pos is consistent.\n",
    "    3: 'chr_pos_css',        # chr and pos are consistent.                                              \n",
    "    4: 'ref_css',            # ref is consistent.\n",
    "    5: 'chr_ref_css',        # chr and ref and consistent.\n",
    "    6: 'pos_ref_css',        # pos and ref are consistent.\n",
    "    7: 'chr_pos_ref_css',    # chr, pos and ref are consistent.\n",
    "    8: 'alt_css',            # alt is consistent.\n",
    "    9: 'chr_alt_css',        # chr and alt are consistent.\n",
    "    10: 'pos_alt_css',       # pos and alt are consistent.\n",
    "    11: 'chr_pos_alt_css',   # chr, pos, and alt are consistent.                                         \n",
    "    12: 'ref_alt_css',       # ref and alt are consistent.\n",
    "    13: 'chr_ref_alt_css',   # chr, ref and alt are consistent.\n",
    "    14: 'pos_ref_alt_css',   # pos, ref and alt are consistent.\n",
    "    15: 'all_css'            # all are consistent.\n",
    "} \n",
    "\n",
    "\n",
    "# ipfn / ipfh. input file name and file handle\n",
    "# opfn / opfh. output file name and file handle\n",
    "# epfn / epfh. error line file name and file handles\n",
    "\n",
    "with open(ipfn, 'r') as ipfh, open(opfn, 'w') as opfh, open(epfn, 'w') as epfh:\n",
    "    header = next(ipfh, \"EOF\").strip()\n",
    "    et = 'errType'\n",
    "    header += '\\t' + et + '\\n'\n",
    "    epfh.write(header)\n",
    "    opfh.write(header)\n",
    "    \n",
    "    lineStr = next(ipfh, \"EOF\").strip()\n",
    "    while lineStr != \"EOF\":\n",
    "        lpList = lineStr.split('\\t')\n",
    "\n",
    "        if (lpList[1]==lpList[117]): cChr = 1\n",
    "        else: cChr = 0\n",
    "            \n",
    "        if (lpList[2]==lpList[118]): cPos = 2\n",
    "        else: cPos = 0\n",
    "\n",
    "        if (lpList[3]==lpList[119]): cRef = 4\n",
    "        else: cRef = 0\n",
    "\n",
    "        if (lpList[4]==lpList[120]): cAlt = 8\n",
    "        else: cAlt = 0 \n",
    " \n",
    "        check = cChr + cPos + cRef + cAlt;\n",
    "        et = descriptDict[check]\n",
    "\n",
    "        if check == 15:  # all are consistent\n",
    "            opfh.write(lineStr + '\\t' + et + '\\n')\n",
    "        else:            # not all consistent\n",
    "            epfh.write(lineStr + '\\t' + et + '\\n')\n",
    "\n",
    "        lineStr = next(ipfh, \"EOF\").strip()\n",
    "\n",
    "\n",
    "# Finished the logging & time counting ends\n",
    "lg.info(\"=== Done  ... ===\\nTime elapsed: %0.2sf\" %(time.clock()-ct) )"
   ]
  }
 ],
 "metadata": {
  "kernelspec": {
   "display_name": "Python 3",
   "language": "python",
   "name": "python3"
  },
  "language_info": {
   "codemirror_mode": {
    "name": "ipython",
    "version": 3
   },
   "file_extension": ".py",
   "mimetype": "text/x-python",
   "name": "python",
   "nbconvert_exporter": "python",
   "pygments_lexer": "ipython3",
   "version": "3.5.3"
  }
 },
 "nbformat": 4,
 "nbformat_minor": 2
}
