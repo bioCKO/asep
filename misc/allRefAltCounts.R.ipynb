{
 "cells": [
  {
   "cell_type": "code",
   "execution_count": null,
   "metadata": {
    "collapsed": true
   },
   "outputs": [],
   "source": [
    "# Logging function\n",
    "lg.info <- function(m, ln='INFO'){ \n",
    "    timeStamp <- strftime(Sys.time(), \"%Y-%m-%d,%H:%M:%S\")\n",
    "    reporterName <- commandArgs()\n",
    "    levelName <- ln\n",
    "    message(timeStamp, ' <', reporterName[4], '> ', levelName, ': ', m)\n",
    "}\n",
    "\n",
    "lg.info('=== Start ===')\n",
    "\n",
    "# Loading necessay library\n",
    "lg.info('Loading necessay library...')\n",
    "library(ggplot2)\n",
    "# library(GGally)\n",
    "# library(gridExtra)\n",
    "# library(grid)\n",
    "# library(ggpubr)\n",
    "\n",
    "# Arrange working dirs\n",
    "lg.info('Arranging working dirs...')\n",
    "hmDir <- '/home/umcg-zzhang'\n",
    "pjDir <- paste0(hmDir, '/projects', '/ASEpredictor')\n",
    "pjIpDir <- paste0(pjDir, '/inputs')\n",
    "pjOpDir <- paste0(pjDir, '/outputs')\n",
    "pjScDir <- paste0(pjDir, '/scripts')\n",
    "pjMsDir <- paste0(pjDir, '/miscellanies')\n",
    "pjTpDir <- paste0(pjDir, '/tmp')\n",
    "\n",
    "# Arrange input and output files\n",
    "lg.info('Arranging input and ouput files...')\n",
    "\n",
    "## Input files\n",
    "pjIpFile <- paste0(pjOpDir, '/biosGavinOverlapCov10', '/biosGavinOverlapCov10AnnoUnFiltered.tsv')\n",
    "\n",
    "## Output files\n",
    "pjOpFile <- paste0(pjOpDir, '/biosGavinOverlapCov10', '/allRefAltCounts.png')\n",
    "\n",
    "df <- read.csv(pjIpFile, header=1, sep='\\t')\n",
    "df$chr <- as.factor(df$chr)\n",
    "\n",
    "# Statistical analysis and plots + theme_bw()\n",
    "p <- ggplot(data=df, aes(x=altCountsBios, y=refCountsBios, color=group)) + theme_bw()\n",
    "p <- p + geom_point(alpha=0.5)\n",
    "p <- p + geom_abline(slope=1, intercept=0, linetype='dotted')\n",
    "p <- p + geom_abline(slope=0.5, intercept=0, linetype='dotted')\n",
    "p <- p + geom_abline(slope=2, intercept=0, linetype='dotted')\n",
    "p <- p + labs( title='TOTAL(Filtered)', y='Number of reads of reference allele', x='Number of reads of alternative allele')\n",
    "p <- p + lims(x=c(1, 6000), y=c(1, 6000))\n",
    "p <- p + theme(legend.position=c(0.9, 0.9))\n",
    "ggsave(pjOpFile, device='png', width='840', height='840', units='px')\n"
   ]
  }
 ],
 "metadata": {
  "kernelspec": {
   "display_name": "R",
   "language": "R",
   "name": "ir"
  },
  "language_info": {
   "codemirror_mode": "r",
   "file_extension": ".r",
   "mimetype": "text/x-r-source",
   "name": "R",
   "pygments_lexer": "r",
   "version": "3.3.3"
  }
 },
 "nbformat": 4,
 "nbformat_minor": 2
}
