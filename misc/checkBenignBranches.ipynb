{
 "cells": [
  {
   "cell_type": "code",
   "execution_count": 1,
   "metadata": {
    "collapsed": true
   },
   "outputs": [],
   "source": [
    "#!/usr/bin/env Rscript\n",
    "#\n",
    "##\n",
    "### author: zhzhang\n",
    "### e-mail: zhzhang2015@sina.com / zhenghua.zhang217@gmail.com\n",
    "### data  : 2018.10.31\n",
    "##\n",
    "#\n",
    "################################################################################"
   ]
  },
  {
   "cell_type": "code",
   "execution_count": 2,
   "metadata": {
    "collapsed": true
   },
   "outputs": [
    {
     "name": "stderr",
     "output_type": "stream",
     "text": [
      "2018-11-01,15:21:52 <IRkernel::main()> INFO: === Start ===\n"
     ]
    }
   ],
   "source": [
    "# Logging function\n",
    "lg.info <- function(m, ln='INFO'){ \n",
    "    timeStamp <- strftime(Sys.time(), \"%Y-%m-%d,%H:%M:%S\")\n",
    "    reporterName <- commandArgs()\n",
    "    levelName <- ln\n",
    "    message(timeStamp, ' <', reporterName[4], '> ', levelName, ': ', m)\n",
    "}\n",
    "\n",
    "lg.info('=== Start ===')"
   ]
  },
  {
   "cell_type": "code",
   "execution_count": 3,
   "metadata": {
    "collapsed": true
   },
   "outputs": [
    {
     "name": "stderr",
     "output_type": "stream",
     "text": [
      "2018-11-01,15:21:52 <IRkernel::main()> INFO: Loading necessay library...\n",
      "\n",
      "Attaching package: ‘dplyr’\n",
      "\n",
      "The following objects are masked from ‘package:stats’:\n",
      "\n",
      "    filter, lag\n",
      "\n",
      "The following objects are masked from ‘package:base’:\n",
      "\n",
      "    intersect, setdiff, setequal, union\n",
      "\n"
     ]
    }
   ],
   "source": [
    "# Loading necessay library\n",
    "lg.info('Loading necessay library...')\n",
    "library(ggplot2)\n",
    "library(dplyr)"
   ]
  },
  {
   "cell_type": "code",
   "execution_count": 4,
   "metadata": {
    "collapsed": true
   },
   "outputs": [
    {
     "name": "stderr",
     "output_type": "stream",
     "text": [
      "2018-11-01,15:21:56 <IRkernel::main()> INFO: Arranging working dirs...\n"
     ]
    }
   ],
   "source": [
    "# Arrange working dirs\n",
    "lg.info('Arranging working dirs...')\n",
    "hmDir <- '/home/umcg-zzhang'\n",
    "pjDir <- paste0(hmDir, '/projects', '/ASEpredictor')\n",
    "pjIpDir <- paste0(pjDir, '/inputs')\n",
    "pjOpDir <- paste0(pjDir, '/outputs')\n",
    "pjScDir <- paste0(pjDir, '/scripts')\n",
    "pjMsDir <- paste0(pjDir, '/miscellanies')\n",
    "pjTpDir <- paste0(pjDir, '/tmp')"
   ]
  },
  {
   "cell_type": "code",
   "execution_count": 5,
   "metadata": {
    "collapsed": true
   },
   "outputs": [
    {
     "name": "stderr",
     "output_type": "stream",
     "text": [
      "2018-11-01,15:24:32 <IRkernel::main()> INFO: Arranging input and ouput files...\n"
     ]
    }
   ],
   "source": [
    "# Arrange input and output files\n",
    "lg.info('Arranging input and ouput files...')\n",
    "\n",
    "## Input files\n",
    "pjIpFile <- paste0(pjOpDir, '/biosGavinOverlapCov10', '/biosGavinOverlapCov10AnnoUnFiltered.tsv')\n",
    "\n",
    "## Output files\n",
    "# pjOpFile = paste0(pjOpDir, '/biosGavinOverlapCov10AnnoFiltered.tsv')"
   ]
  },
  {
   "cell_type": "code",
   "execution_count": null,
   "metadata": {
    "collapsed": true
   },
   "outputs": [],
   "source": [
    "# Start of reading files\n",
    "df <- read.csv(pjIpFile, header=1, sep='\\t')\n",
    "dfLfup <- df[which(df$refCountsBios/df$altCountsBios > 2), ]"
   ]
  },
  {
   "cell_type": "code",
   "execution_count": null,
   "metadata": {
    "collapsed": true
   },
   "outputs": [],
   "source": []
  }
 ],
 "metadata": {
  "kernelspec": {
   "display_name": "R",
   "language": "R",
   "name": "ir"
  },
  "language_info": {
   "codemirror_mode": "r",
   "file_extension": ".r",
   "mimetype": "text/x-r-source",
   "name": "R",
   "pygments_lexer": "r",
   "version": "3.3.3"
  }
 },
 "nbformat": 4,
 "nbformat_minor": 2
}
